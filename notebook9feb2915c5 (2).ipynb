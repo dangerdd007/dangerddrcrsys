{
 "cells": [
  {
   "cell_type": "code",
   "execution_count": 1,
   "id": "8629e835",
   "metadata": {
    "_cell_guid": "b1076dfc-b9ad-4769-8c92-a6c4dae69d19",
    "_uuid": "8f2839f25d086af736a60e9eeb907d3b93b6e0e5",
    "execution": {
     "iopub.execute_input": "2024-11-28T11:58:24.539596Z",
     "iopub.status.busy": "2024-11-28T11:58:24.539201Z",
     "iopub.status.idle": "2024-11-28T11:58:25.478526Z",
     "shell.execute_reply": "2024-11-28T11:58:25.477228Z"
    },
    "papermill": {
     "duration": 0.954491,
     "end_time": "2024-11-28T11:58:25.480900",
     "exception": false,
     "start_time": "2024-11-28T11:58:24.526409",
     "status": "completed"
    },
    "tags": []
   },
   "outputs": [
    {
     "name": "stdout",
     "output_type": "stream",
     "text": [
      "/kaggle/input/tmdb-movie-metadata/tmdb_5000_movies.csv\n",
      "/kaggle/input/tmdb-movie-metadata/tmdb_5000_credits.csv\n"
     ]
    }
   ],
   "source": [
    "# This Python 3 environment comes with many helpful analytics libraries installed\n",
    "# It is defined by the kaggle/python Docker image: https://github.com/kaggle/docker-python\n",
    "# For example, here's several helpful packages to load\n",
    "\n",
    "import numpy as np # linear algebra\n",
    "import pandas as pd # data processing, CSV file I/O (e.g. pd.read_csv)\n",
    "\n",
    "# Input data files are available in the read-only \"../input/\" directory\n",
    "# For example, running this (by clicking run or pressing Shift+Enter) will list all files under the input directory\n",
    "\n",
    "import os\n",
    "for dirname, _, filenames in os.walk('/kaggle/input'):\n",
    "    for filename in filenames:\n",
    "        print(os.path.join(dirname, filename))\n",
    "\n",
    "# You can write up to 20GB to the current directory (/kaggle/working/) that gets preserved as output when you create a version using \"Save & Run All\" \n",
    "# You can also write temporary files to /kaggle/temp/, but they won't be saved outside of the current session"
   ]
  },
  {
   "cell_type": "code",
   "execution_count": 2,
   "id": "598b5095",
   "metadata": {
    "execution": {
     "iopub.execute_input": "2024-11-28T11:58:25.504040Z",
     "iopub.status.busy": "2024-11-28T11:58:25.503547Z",
     "iopub.status.idle": "2024-11-28T11:58:26.433757Z",
     "shell.execute_reply": "2024-11-28T11:58:26.432663Z"
    },
    "papermill": {
     "duration": 0.945051,
     "end_time": "2024-11-28T11:58:26.436259",
     "exception": false,
     "start_time": "2024-11-28T11:58:25.491208",
     "status": "completed"
    },
    "tags": []
   },
   "outputs": [],
   "source": [
    "movies = pd.read_csv('/kaggle/input/tmdb-movie-metadata/tmdb_5000_movies.csv')\n",
    "credits = pd.read_csv('/kaggle/input/tmdb-movie-metadata/tmdb_5000_credits.csv')"
   ]
  },
  {
   "cell_type": "code",
   "execution_count": 3,
   "id": "798173fc",
   "metadata": {
    "execution": {
     "iopub.execute_input": "2024-11-28T11:58:26.458450Z",
     "iopub.status.busy": "2024-11-28T11:58:26.458032Z",
     "iopub.status.idle": "2024-11-28T11:58:26.486807Z",
     "shell.execute_reply": "2024-11-28T11:58:26.485560Z"
    },
    "papermill": {
     "duration": 0.043115,
     "end_time": "2024-11-28T11:58:26.489860",
     "exception": false,
     "start_time": "2024-11-28T11:58:26.446745",
     "status": "completed"
    },
    "tags": []
   },
   "outputs": [
    {
     "data": {
      "text/html": [
       "<div>\n",
       "<style scoped>\n",
       "    .dataframe tbody tr th:only-of-type {\n",
       "        vertical-align: middle;\n",
       "    }\n",
       "\n",
       "    .dataframe tbody tr th {\n",
       "        vertical-align: top;\n",
       "    }\n",
       "\n",
       "    .dataframe thead th {\n",
       "        text-align: right;\n",
       "    }\n",
       "</style>\n",
       "<table border=\"1\" class=\"dataframe\">\n",
       "  <thead>\n",
       "    <tr style=\"text-align: right;\">\n",
       "      <th></th>\n",
       "      <th>budget</th>\n",
       "      <th>genres</th>\n",
       "      <th>homepage</th>\n",
       "      <th>id</th>\n",
       "      <th>keywords</th>\n",
       "      <th>original_language</th>\n",
       "      <th>original_title</th>\n",
       "      <th>overview</th>\n",
       "      <th>popularity</th>\n",
       "      <th>production_companies</th>\n",
       "      <th>production_countries</th>\n",
       "      <th>release_date</th>\n",
       "      <th>revenue</th>\n",
       "      <th>runtime</th>\n",
       "      <th>spoken_languages</th>\n",
       "      <th>status</th>\n",
       "      <th>tagline</th>\n",
       "      <th>title</th>\n",
       "      <th>vote_average</th>\n",
       "      <th>vote_count</th>\n",
       "    </tr>\n",
       "  </thead>\n",
       "  <tbody>\n",
       "    <tr>\n",
       "      <th>0</th>\n",
       "      <td>237000000</td>\n",
       "      <td>[{\"id\": 28, \"name\": \"Action\"}, {\"id\": 12, \"nam...</td>\n",
       "      <td>http://www.avatarmovie.com/</td>\n",
       "      <td>19995</td>\n",
       "      <td>[{\"id\": 1463, \"name\": \"culture clash\"}, {\"id\":...</td>\n",
       "      <td>en</td>\n",
       "      <td>Avatar</td>\n",
       "      <td>In the 22nd century, a paraplegic Marine is di...</td>\n",
       "      <td>150.437577</td>\n",
       "      <td>[{\"name\": \"Ingenious Film Partners\", \"id\": 289...</td>\n",
       "      <td>[{\"iso_3166_1\": \"US\", \"name\": \"United States o...</td>\n",
       "      <td>2009-12-10</td>\n",
       "      <td>2787965087</td>\n",
       "      <td>162.0</td>\n",
       "      <td>[{\"iso_639_1\": \"en\", \"name\": \"English\"}, {\"iso...</td>\n",
       "      <td>Released</td>\n",
       "      <td>Enter the World of Pandora.</td>\n",
       "      <td>Avatar</td>\n",
       "      <td>7.2</td>\n",
       "      <td>11800</td>\n",
       "    </tr>\n",
       "  </tbody>\n",
       "</table>\n",
       "</div>"
      ],
      "text/plain": [
       "      budget                                             genres  \\\n",
       "0  237000000  [{\"id\": 28, \"name\": \"Action\"}, {\"id\": 12, \"nam...   \n",
       "\n",
       "                      homepage     id  \\\n",
       "0  http://www.avatarmovie.com/  19995   \n",
       "\n",
       "                                            keywords original_language  \\\n",
       "0  [{\"id\": 1463, \"name\": \"culture clash\"}, {\"id\":...                en   \n",
       "\n",
       "  original_title                                           overview  \\\n",
       "0         Avatar  In the 22nd century, a paraplegic Marine is di...   \n",
       "\n",
       "   popularity                               production_companies  \\\n",
       "0  150.437577  [{\"name\": \"Ingenious Film Partners\", \"id\": 289...   \n",
       "\n",
       "                                production_countries release_date     revenue  \\\n",
       "0  [{\"iso_3166_1\": \"US\", \"name\": \"United States o...   2009-12-10  2787965087   \n",
       "\n",
       "   runtime                                   spoken_languages    status  \\\n",
       "0    162.0  [{\"iso_639_1\": \"en\", \"name\": \"English\"}, {\"iso...  Released   \n",
       "\n",
       "                       tagline   title  vote_average  vote_count  \n",
       "0  Enter the World of Pandora.  Avatar           7.2       11800  "
      ]
     },
     "execution_count": 3,
     "metadata": {},
     "output_type": "execute_result"
    }
   ],
   "source": [
    "movies.head(1)"
   ]
  },
  {
   "cell_type": "code",
   "execution_count": 4,
   "id": "1e3b05f4",
   "metadata": {
    "execution": {
     "iopub.execute_input": "2024-11-28T11:58:26.511866Z",
     "iopub.status.busy": "2024-11-28T11:58:26.511493Z",
     "iopub.status.idle": "2024-11-28T11:58:26.542461Z",
     "shell.execute_reply": "2024-11-28T11:58:26.541215Z"
    },
    "papermill": {
     "duration": 0.04484,
     "end_time": "2024-11-28T11:58:26.544967",
     "exception": false,
     "start_time": "2024-11-28T11:58:26.500127",
     "status": "completed"
    },
    "tags": []
   },
   "outputs": [],
   "source": [
    "movies = movies.merge(credits)"
   ]
  },
  {
   "cell_type": "code",
   "execution_count": 5,
   "id": "bb0d00bf",
   "metadata": {
    "execution": {
     "iopub.execute_input": "2024-11-28T11:58:26.567673Z",
     "iopub.status.busy": "2024-11-28T11:58:26.567281Z",
     "iopub.status.idle": "2024-11-28T11:58:26.590227Z",
     "shell.execute_reply": "2024-11-28T11:58:26.589120Z"
    },
    "papermill": {
     "duration": 0.036721,
     "end_time": "2024-11-28T11:58:26.592487",
     "exception": false,
     "start_time": "2024-11-28T11:58:26.555766",
     "status": "completed"
    },
    "tags": []
   },
   "outputs": [
    {
     "data": {
      "text/html": [
       "<div>\n",
       "<style scoped>\n",
       "    .dataframe tbody tr th:only-of-type {\n",
       "        vertical-align: middle;\n",
       "    }\n",
       "\n",
       "    .dataframe tbody tr th {\n",
       "        vertical-align: top;\n",
       "    }\n",
       "\n",
       "    .dataframe thead th {\n",
       "        text-align: right;\n",
       "    }\n",
       "</style>\n",
       "<table border=\"1\" class=\"dataframe\">\n",
       "  <thead>\n",
       "    <tr style=\"text-align: right;\">\n",
       "      <th></th>\n",
       "      <th>budget</th>\n",
       "      <th>genres</th>\n",
       "      <th>homepage</th>\n",
       "      <th>id</th>\n",
       "      <th>keywords</th>\n",
       "      <th>original_language</th>\n",
       "      <th>original_title</th>\n",
       "      <th>overview</th>\n",
       "      <th>popularity</th>\n",
       "      <th>production_companies</th>\n",
       "      <th>...</th>\n",
       "      <th>runtime</th>\n",
       "      <th>spoken_languages</th>\n",
       "      <th>status</th>\n",
       "      <th>tagline</th>\n",
       "      <th>title</th>\n",
       "      <th>vote_average</th>\n",
       "      <th>vote_count</th>\n",
       "      <th>movie_id</th>\n",
       "      <th>cast</th>\n",
       "      <th>crew</th>\n",
       "    </tr>\n",
       "  </thead>\n",
       "  <tbody>\n",
       "    <tr>\n",
       "      <th>0</th>\n",
       "      <td>237000000</td>\n",
       "      <td>[{\"id\": 28, \"name\": \"Action\"}, {\"id\": 12, \"nam...</td>\n",
       "      <td>http://www.avatarmovie.com/</td>\n",
       "      <td>19995</td>\n",
       "      <td>[{\"id\": 1463, \"name\": \"culture clash\"}, {\"id\":...</td>\n",
       "      <td>en</td>\n",
       "      <td>Avatar</td>\n",
       "      <td>In the 22nd century, a paraplegic Marine is di...</td>\n",
       "      <td>150.437577</td>\n",
       "      <td>[{\"name\": \"Ingenious Film Partners\", \"id\": 289...</td>\n",
       "      <td>...</td>\n",
       "      <td>162.0</td>\n",
       "      <td>[{\"iso_639_1\": \"en\", \"name\": \"English\"}, {\"iso...</td>\n",
       "      <td>Released</td>\n",
       "      <td>Enter the World of Pandora.</td>\n",
       "      <td>Avatar</td>\n",
       "      <td>7.2</td>\n",
       "      <td>11800</td>\n",
       "      <td>19995</td>\n",
       "      <td>[{\"cast_id\": 242, \"character\": \"Jake Sully\", \"...</td>\n",
       "      <td>[{\"credit_id\": \"52fe48009251416c750aca23\", \"de...</td>\n",
       "    </tr>\n",
       "  </tbody>\n",
       "</table>\n",
       "<p>1 rows × 23 columns</p>\n",
       "</div>"
      ],
      "text/plain": [
       "      budget                                             genres  \\\n",
       "0  237000000  [{\"id\": 28, \"name\": \"Action\"}, {\"id\": 12, \"nam...   \n",
       "\n",
       "                      homepage     id  \\\n",
       "0  http://www.avatarmovie.com/  19995   \n",
       "\n",
       "                                            keywords original_language  \\\n",
       "0  [{\"id\": 1463, \"name\": \"culture clash\"}, {\"id\":...                en   \n",
       "\n",
       "  original_title                                           overview  \\\n",
       "0         Avatar  In the 22nd century, a paraplegic Marine is di...   \n",
       "\n",
       "   popularity                               production_companies  ... runtime  \\\n",
       "0  150.437577  [{\"name\": \"Ingenious Film Partners\", \"id\": 289...  ...   162.0   \n",
       "\n",
       "                                    spoken_languages    status  \\\n",
       "0  [{\"iso_639_1\": \"en\", \"name\": \"English\"}, {\"iso...  Released   \n",
       "\n",
       "                       tagline   title vote_average vote_count movie_id  \\\n",
       "0  Enter the World of Pandora.  Avatar          7.2      11800    19995   \n",
       "\n",
       "                                                cast  \\\n",
       "0  [{\"cast_id\": 242, \"character\": \"Jake Sully\", \"...   \n",
       "\n",
       "                                                crew  \n",
       "0  [{\"credit_id\": \"52fe48009251416c750aca23\", \"de...  \n",
       "\n",
       "[1 rows x 23 columns]"
      ]
     },
     "execution_count": 5,
     "metadata": {},
     "output_type": "execute_result"
    }
   ],
   "source": [
    "movies.head(1)"
   ]
  },
  {
   "cell_type": "code",
   "execution_count": 6,
   "id": "ea6dd6c7",
   "metadata": {
    "execution": {
     "iopub.execute_input": "2024-11-28T11:58:26.615069Z",
     "iopub.status.busy": "2024-11-28T11:58:26.614673Z",
     "iopub.status.idle": "2024-11-28T11:58:26.621742Z",
     "shell.execute_reply": "2024-11-28T11:58:26.620730Z"
    },
    "papermill": {
     "duration": 0.020828,
     "end_time": "2024-11-28T11:58:26.623869",
     "exception": false,
     "start_time": "2024-11-28T11:58:26.603041",
     "status": "completed"
    },
    "tags": []
   },
   "outputs": [
    {
     "data": {
      "text/plain": [
       "(4809, 23)"
      ]
     },
     "execution_count": 6,
     "metadata": {},
     "output_type": "execute_result"
    }
   ],
   "source": [
    "movies.shape"
   ]
  },
  {
   "cell_type": "code",
   "execution_count": 7,
   "id": "0bc6a37c",
   "metadata": {
    "execution": {
     "iopub.execute_input": "2024-11-28T11:58:26.647406Z",
     "iopub.status.busy": "2024-11-28T11:58:26.646246Z",
     "iopub.status.idle": "2024-11-28T11:58:26.675015Z",
     "shell.execute_reply": "2024-11-28T11:58:26.673431Z"
    },
    "papermill": {
     "duration": 0.043158,
     "end_time": "2024-11-28T11:58:26.677579",
     "exception": false,
     "start_time": "2024-11-28T11:58:26.634421",
     "status": "completed"
    },
    "tags": []
   },
   "outputs": [
    {
     "name": "stdout",
     "output_type": "stream",
     "text": [
      "<class 'pandas.core.frame.DataFrame'>\n",
      "RangeIndex: 4809 entries, 0 to 4808\n",
      "Data columns (total 23 columns):\n",
      " #   Column                Non-Null Count  Dtype  \n",
      "---  ------                --------------  -----  \n",
      " 0   budget                4809 non-null   int64  \n",
      " 1   genres                4809 non-null   object \n",
      " 2   homepage              1713 non-null   object \n",
      " 3   id                    4809 non-null   int64  \n",
      " 4   keywords              4809 non-null   object \n",
      " 5   original_language     4809 non-null   object \n",
      " 6   original_title        4809 non-null   object \n",
      " 7   overview              4806 non-null   object \n",
      " 8   popularity            4809 non-null   float64\n",
      " 9   production_companies  4809 non-null   object \n",
      " 10  production_countries  4809 non-null   object \n",
      " 11  release_date          4808 non-null   object \n",
      " 12  revenue               4809 non-null   int64  \n",
      " 13  runtime               4807 non-null   float64\n",
      " 14  spoken_languages      4809 non-null   object \n",
      " 15  status                4809 non-null   object \n",
      " 16  tagline               3965 non-null   object \n",
      " 17  title                 4809 non-null   object \n",
      " 18  vote_average          4809 non-null   float64\n",
      " 19  vote_count            4809 non-null   int64  \n",
      " 20  movie_id              4809 non-null   int64  \n",
      " 21  cast                  4809 non-null   object \n",
      " 22  crew                  4809 non-null   object \n",
      "dtypes: float64(3), int64(5), object(15)\n",
      "memory usage: 864.2+ KB\n"
     ]
    }
   ],
   "source": [
    "movies.info()"
   ]
  },
  {
   "cell_type": "code",
   "execution_count": 8,
   "id": "aea80094",
   "metadata": {
    "execution": {
     "iopub.execute_input": "2024-11-28T11:58:26.700883Z",
     "iopub.status.busy": "2024-11-28T11:58:26.700511Z",
     "iopub.status.idle": "2024-11-28T11:58:26.721870Z",
     "shell.execute_reply": "2024-11-28T11:58:26.720651Z"
    },
    "papermill": {
     "duration": 0.03579,
     "end_time": "2024-11-28T11:58:26.724353",
     "exception": false,
     "start_time": "2024-11-28T11:58:26.688563",
     "status": "completed"
    },
    "tags": []
   },
   "outputs": [
    {
     "data": {
      "text/html": [
       "<div>\n",
       "<style scoped>\n",
       "    .dataframe tbody tr th:only-of-type {\n",
       "        vertical-align: middle;\n",
       "    }\n",
       "\n",
       "    .dataframe tbody tr th {\n",
       "        vertical-align: top;\n",
       "    }\n",
       "\n",
       "    .dataframe thead th {\n",
       "        text-align: right;\n",
       "    }\n",
       "</style>\n",
       "<table border=\"1\" class=\"dataframe\">\n",
       "  <thead>\n",
       "    <tr style=\"text-align: right;\">\n",
       "      <th></th>\n",
       "      <th>budget</th>\n",
       "      <th>genres</th>\n",
       "      <th>homepage</th>\n",
       "      <th>id</th>\n",
       "      <th>keywords</th>\n",
       "      <th>original_language</th>\n",
       "      <th>original_title</th>\n",
       "      <th>overview</th>\n",
       "      <th>popularity</th>\n",
       "      <th>production_companies</th>\n",
       "      <th>...</th>\n",
       "      <th>runtime</th>\n",
       "      <th>spoken_languages</th>\n",
       "      <th>status</th>\n",
       "      <th>tagline</th>\n",
       "      <th>title</th>\n",
       "      <th>vote_average</th>\n",
       "      <th>vote_count</th>\n",
       "      <th>movie_id</th>\n",
       "      <th>cast</th>\n",
       "      <th>crew</th>\n",
       "    </tr>\n",
       "  </thead>\n",
       "  <tbody>\n",
       "    <tr>\n",
       "      <th>0</th>\n",
       "      <td>237000000</td>\n",
       "      <td>[{\"id\": 28, \"name\": \"Action\"}, {\"id\": 12, \"nam...</td>\n",
       "      <td>http://www.avatarmovie.com/</td>\n",
       "      <td>19995</td>\n",
       "      <td>[{\"id\": 1463, \"name\": \"culture clash\"}, {\"id\":...</td>\n",
       "      <td>en</td>\n",
       "      <td>Avatar</td>\n",
       "      <td>In the 22nd century, a paraplegic Marine is di...</td>\n",
       "      <td>150.437577</td>\n",
       "      <td>[{\"name\": \"Ingenious Film Partners\", \"id\": 289...</td>\n",
       "      <td>...</td>\n",
       "      <td>162.0</td>\n",
       "      <td>[{\"iso_639_1\": \"en\", \"name\": \"English\"}, {\"iso...</td>\n",
       "      <td>Released</td>\n",
       "      <td>Enter the World of Pandora.</td>\n",
       "      <td>Avatar</td>\n",
       "      <td>7.2</td>\n",
       "      <td>11800</td>\n",
       "      <td>19995</td>\n",
       "      <td>[{\"cast_id\": 242, \"character\": \"Jake Sully\", \"...</td>\n",
       "      <td>[{\"credit_id\": \"52fe48009251416c750aca23\", \"de...</td>\n",
       "    </tr>\n",
       "  </tbody>\n",
       "</table>\n",
       "<p>1 rows × 23 columns</p>\n",
       "</div>"
      ],
      "text/plain": [
       "      budget                                             genres  \\\n",
       "0  237000000  [{\"id\": 28, \"name\": \"Action\"}, {\"id\": 12, \"nam...   \n",
       "\n",
       "                      homepage     id  \\\n",
       "0  http://www.avatarmovie.com/  19995   \n",
       "\n",
       "                                            keywords original_language  \\\n",
       "0  [{\"id\": 1463, \"name\": \"culture clash\"}, {\"id\":...                en   \n",
       "\n",
       "  original_title                                           overview  \\\n",
       "0         Avatar  In the 22nd century, a paraplegic Marine is di...   \n",
       "\n",
       "   popularity                               production_companies  ... runtime  \\\n",
       "0  150.437577  [{\"name\": \"Ingenious Film Partners\", \"id\": 289...  ...   162.0   \n",
       "\n",
       "                                    spoken_languages    status  \\\n",
       "0  [{\"iso_639_1\": \"en\", \"name\": \"English\"}, {\"iso...  Released   \n",
       "\n",
       "                       tagline   title vote_average vote_count movie_id  \\\n",
       "0  Enter the World of Pandora.  Avatar          7.2      11800    19995   \n",
       "\n",
       "                                                cast  \\\n",
       "0  [{\"cast_id\": 242, \"character\": \"Jake Sully\", \"...   \n",
       "\n",
       "                                                crew  \n",
       "0  [{\"credit_id\": \"52fe48009251416c750aca23\", \"de...  \n",
       "\n",
       "[1 rows x 23 columns]"
      ]
     },
     "execution_count": 8,
     "metadata": {},
     "output_type": "execute_result"
    }
   ],
   "source": [
    "movies.head(1)"
   ]
  },
  {
   "cell_type": "code",
   "execution_count": 9,
   "id": "b6273577",
   "metadata": {
    "execution": {
     "iopub.execute_input": "2024-11-28T11:58:26.748009Z",
     "iopub.status.busy": "2024-11-28T11:58:26.747624Z",
     "iopub.status.idle": "2024-11-28T11:58:26.754735Z",
     "shell.execute_reply": "2024-11-28T11:58:26.753632Z"
    },
    "papermill": {
     "duration": 0.021458,
     "end_time": "2024-11-28T11:58:26.756903",
     "exception": false,
     "start_time": "2024-11-28T11:58:26.735445",
     "status": "completed"
    },
    "tags": []
   },
   "outputs": [],
   "source": [
    "movies = movies[['movie_id','title','overview','genres','keywords','cast','crew']]"
   ]
  },
  {
   "cell_type": "code",
   "execution_count": 10,
   "id": "5eea91fe",
   "metadata": {
    "execution": {
     "iopub.execute_input": "2024-11-28T11:58:26.780396Z",
     "iopub.status.busy": "2024-11-28T11:58:26.780010Z",
     "iopub.status.idle": "2024-11-28T11:58:26.792276Z",
     "shell.execute_reply": "2024-11-28T11:58:26.791242Z"
    },
    "papermill": {
     "duration": 0.026505,
     "end_time": "2024-11-28T11:58:26.794320",
     "exception": false,
     "start_time": "2024-11-28T11:58:26.767815",
     "status": "completed"
    },
    "tags": []
   },
   "outputs": [
    {
     "data": {
      "text/html": [
       "<div>\n",
       "<style scoped>\n",
       "    .dataframe tbody tr th:only-of-type {\n",
       "        vertical-align: middle;\n",
       "    }\n",
       "\n",
       "    .dataframe tbody tr th {\n",
       "        vertical-align: top;\n",
       "    }\n",
       "\n",
       "    .dataframe thead th {\n",
       "        text-align: right;\n",
       "    }\n",
       "</style>\n",
       "<table border=\"1\" class=\"dataframe\">\n",
       "  <thead>\n",
       "    <tr style=\"text-align: right;\">\n",
       "      <th></th>\n",
       "      <th>movie_id</th>\n",
       "      <th>title</th>\n",
       "      <th>overview</th>\n",
       "      <th>genres</th>\n",
       "      <th>keywords</th>\n",
       "      <th>cast</th>\n",
       "      <th>crew</th>\n",
       "    </tr>\n",
       "  </thead>\n",
       "  <tbody>\n",
       "    <tr>\n",
       "      <th>0</th>\n",
       "      <td>19995</td>\n",
       "      <td>Avatar</td>\n",
       "      <td>In the 22nd century, a paraplegic Marine is di...</td>\n",
       "      <td>[{\"id\": 28, \"name\": \"Action\"}, {\"id\": 12, \"nam...</td>\n",
       "      <td>[{\"id\": 1463, \"name\": \"culture clash\"}, {\"id\":...</td>\n",
       "      <td>[{\"cast_id\": 242, \"character\": \"Jake Sully\", \"...</td>\n",
       "      <td>[{\"credit_id\": \"52fe48009251416c750aca23\", \"de...</td>\n",
       "    </tr>\n",
       "  </tbody>\n",
       "</table>\n",
       "</div>"
      ],
      "text/plain": [
       "   movie_id   title                                           overview  \\\n",
       "0     19995  Avatar  In the 22nd century, a paraplegic Marine is di...   \n",
       "\n",
       "                                              genres  \\\n",
       "0  [{\"id\": 28, \"name\": \"Action\"}, {\"id\": 12, \"nam...   \n",
       "\n",
       "                                            keywords  \\\n",
       "0  [{\"id\": 1463, \"name\": \"culture clash\"}, {\"id\":...   \n",
       "\n",
       "                                                cast  \\\n",
       "0  [{\"cast_id\": 242, \"character\": \"Jake Sully\", \"...   \n",
       "\n",
       "                                                crew  \n",
       "0  [{\"credit_id\": \"52fe48009251416c750aca23\", \"de...  "
      ]
     },
     "execution_count": 10,
     "metadata": {},
     "output_type": "execute_result"
    }
   ],
   "source": [
    "movies.head(1)"
   ]
  },
  {
   "cell_type": "code",
   "execution_count": 11,
   "id": "03f5d4bb",
   "metadata": {
    "execution": {
     "iopub.execute_input": "2024-11-28T11:58:26.819513Z",
     "iopub.status.busy": "2024-11-28T11:58:26.819089Z",
     "iopub.status.idle": "2024-11-28T11:58:26.831470Z",
     "shell.execute_reply": "2024-11-28T11:58:26.830204Z"
    },
    "papermill": {
     "duration": 0.027698,
     "end_time": "2024-11-28T11:58:26.833709",
     "exception": false,
     "start_time": "2024-11-28T11:58:26.806011",
     "status": "completed"
    },
    "tags": []
   },
   "outputs": [
    {
     "data": {
      "text/plain": [
       "movie_id    0\n",
       "title       0\n",
       "overview    3\n",
       "genres      0\n",
       "keywords    0\n",
       "cast        0\n",
       "crew        0\n",
       "dtype: int64"
      ]
     },
     "execution_count": 11,
     "metadata": {},
     "output_type": "execute_result"
    }
   ],
   "source": [
    "    movies.isnull().sum()"
   ]
  },
  {
   "cell_type": "code",
   "execution_count": 12,
   "id": "14dae5ba",
   "metadata": {
    "execution": {
     "iopub.execute_input": "2024-11-28T11:58:26.857568Z",
     "iopub.status.busy": "2024-11-28T11:58:26.857171Z",
     "iopub.status.idle": "2024-11-28T11:58:26.869059Z",
     "shell.execute_reply": "2024-11-28T11:58:26.867977Z"
    },
    "papermill": {
     "duration": 0.026742,
     "end_time": "2024-11-28T11:58:26.871614",
     "exception": false,
     "start_time": "2024-11-28T11:58:26.844872",
     "status": "completed"
    },
    "tags": []
   },
   "outputs": [],
   "source": [
    "movies.dropna(inplace =True)"
   ]
  },
  {
   "cell_type": "code",
   "execution_count": 13,
   "id": "61f3adac",
   "metadata": {
    "execution": {
     "iopub.execute_input": "2024-11-28T11:58:26.895832Z",
     "iopub.status.busy": "2024-11-28T11:58:26.895464Z",
     "iopub.status.idle": "2024-11-28T11:58:26.908184Z",
     "shell.execute_reply": "2024-11-28T11:58:26.906993Z"
    },
    "papermill": {
     "duration": 0.02773,
     "end_time": "2024-11-28T11:58:26.910581",
     "exception": false,
     "start_time": "2024-11-28T11:58:26.882851",
     "status": "completed"
    },
    "tags": []
   },
   "outputs": [
    {
     "data": {
      "text/html": [
       "<div>\n",
       "<style scoped>\n",
       "    .dataframe tbody tr th:only-of-type {\n",
       "        vertical-align: middle;\n",
       "    }\n",
       "\n",
       "    .dataframe tbody tr th {\n",
       "        vertical-align: top;\n",
       "    }\n",
       "\n",
       "    .dataframe thead th {\n",
       "        text-align: right;\n",
       "    }\n",
       "</style>\n",
       "<table border=\"1\" class=\"dataframe\">\n",
       "  <thead>\n",
       "    <tr style=\"text-align: right;\">\n",
       "      <th></th>\n",
       "      <th>movie_id</th>\n",
       "      <th>title</th>\n",
       "      <th>overview</th>\n",
       "      <th>genres</th>\n",
       "      <th>keywords</th>\n",
       "      <th>cast</th>\n",
       "      <th>crew</th>\n",
       "    </tr>\n",
       "  </thead>\n",
       "  <tbody>\n",
       "    <tr>\n",
       "      <th>0</th>\n",
       "      <td>19995</td>\n",
       "      <td>Avatar</td>\n",
       "      <td>In the 22nd century, a paraplegic Marine is di...</td>\n",
       "      <td>[{\"id\": 28, \"name\": \"Action\"}, {\"id\": 12, \"nam...</td>\n",
       "      <td>[{\"id\": 1463, \"name\": \"culture clash\"}, {\"id\":...</td>\n",
       "      <td>[{\"cast_id\": 242, \"character\": \"Jake Sully\", \"...</td>\n",
       "      <td>[{\"credit_id\": \"52fe48009251416c750aca23\", \"de...</td>\n",
       "    </tr>\n",
       "  </tbody>\n",
       "</table>\n",
       "</div>"
      ],
      "text/plain": [
       "   movie_id   title                                           overview  \\\n",
       "0     19995  Avatar  In the 22nd century, a paraplegic Marine is di...   \n",
       "\n",
       "                                              genres  \\\n",
       "0  [{\"id\": 28, \"name\": \"Action\"}, {\"id\": 12, \"nam...   \n",
       "\n",
       "                                            keywords  \\\n",
       "0  [{\"id\": 1463, \"name\": \"culture clash\"}, {\"id\":...   \n",
       "\n",
       "                                                cast  \\\n",
       "0  [{\"cast_id\": 242, \"character\": \"Jake Sully\", \"...   \n",
       "\n",
       "                                                crew  \n",
       "0  [{\"credit_id\": \"52fe48009251416c750aca23\", \"de...  "
      ]
     },
     "execution_count": 13,
     "metadata": {},
     "output_type": "execute_result"
    }
   ],
   "source": [
    "movies.head(1)"
   ]
  },
  {
   "cell_type": "code",
   "execution_count": 14,
   "id": "1ffbfeac",
   "metadata": {
    "execution": {
     "iopub.execute_input": "2024-11-28T11:58:26.936549Z",
     "iopub.status.busy": "2024-11-28T11:58:26.936184Z",
     "iopub.status.idle": "2024-11-28T11:58:27.041319Z",
     "shell.execute_reply": "2024-11-28T11:58:27.040226Z"
    },
    "papermill": {
     "duration": 0.120166,
     "end_time": "2024-11-28T11:58:27.043753",
     "exception": false,
     "start_time": "2024-11-28T11:58:26.923587",
     "status": "completed"
    },
    "tags": []
   },
   "outputs": [
    {
     "data": {
      "text/plain": [
       "0"
      ]
     },
     "execution_count": 14,
     "metadata": {},
     "output_type": "execute_result"
    }
   ],
   "source": [
    "movies.duplicated().sum()"
   ]
  },
  {
   "cell_type": "code",
   "execution_count": 15,
   "id": "fd45cee3",
   "metadata": {
    "execution": {
     "iopub.execute_input": "2024-11-28T11:58:27.068705Z",
     "iopub.status.busy": "2024-11-28T11:58:27.068307Z",
     "iopub.status.idle": "2024-11-28T11:58:27.075602Z",
     "shell.execute_reply": "2024-11-28T11:58:27.074383Z"
    },
    "papermill": {
     "duration": 0.022312,
     "end_time": "2024-11-28T11:58:27.077992",
     "exception": false,
     "start_time": "2024-11-28T11:58:27.055680",
     "status": "completed"
    },
    "tags": []
   },
   "outputs": [
    {
     "data": {
      "text/plain": [
       "'[{\"id\": 28, \"name\": \"Action\"}, {\"id\": 12, \"name\": \"Adventure\"}, {\"id\": 14, \"name\": \"Fantasy\"}, {\"id\": 878, \"name\": \"Science Fiction\"}]'"
      ]
     },
     "execution_count": 15,
     "metadata": {},
     "output_type": "execute_result"
    }
   ],
   "source": [
    "movies.iloc[0].genres"
   ]
  },
  {
   "cell_type": "code",
   "execution_count": 16,
   "id": "e61b52fd",
   "metadata": {
    "execution": {
     "iopub.execute_input": "2024-11-28T11:58:27.102626Z",
     "iopub.status.busy": "2024-11-28T11:58:27.102255Z",
     "iopub.status.idle": "2024-11-28T11:58:27.107900Z",
     "shell.execute_reply": "2024-11-28T11:58:27.106814Z"
    },
    "papermill": {
     "duration": 0.020474,
     "end_time": "2024-11-28T11:58:27.110201",
     "exception": false,
     "start_time": "2024-11-28T11:58:27.089727",
     "status": "completed"
    },
    "tags": []
   },
   "outputs": [],
   "source": [
    "#converter function and allow ast for using literal_eval function \n",
    "#You can use the Eval function to evaluate an expression that results in a text string or a numeric value. \n",
    "import ast\n",
    "def convert(obj):\n",
    "    L = []\n",
    "    for i in ast.literal_eval(obj):\n",
    "        L.append(i['name'])\n",
    "    return L    "
   ]
  },
  {
   "cell_type": "code",
   "execution_count": 17,
   "id": "19453c34",
   "metadata": {
    "execution": {
     "iopub.execute_input": "2024-11-28T11:58:27.135155Z",
     "iopub.status.busy": "2024-11-28T11:58:27.134756Z",
     "iopub.status.idle": "2024-11-28T11:58:27.296053Z",
     "shell.execute_reply": "2024-11-28T11:58:27.295022Z"
    },
    "papermill": {
     "duration": 0.177233,
     "end_time": "2024-11-28T11:58:27.298838",
     "exception": false,
     "start_time": "2024-11-28T11:58:27.121605",
     "status": "completed"
    },
    "tags": []
   },
   "outputs": [],
   "source": [
    "movies['genres'] = movies['genres'].apply(convert)"
   ]
  },
  {
   "cell_type": "code",
   "execution_count": 18,
   "id": "7799a6bf",
   "metadata": {
    "execution": {
     "iopub.execute_input": "2024-11-28T11:58:27.323917Z",
     "iopub.status.busy": "2024-11-28T11:58:27.323073Z",
     "iopub.status.idle": "2024-11-28T11:58:27.339051Z",
     "shell.execute_reply": "2024-11-28T11:58:27.337727Z"
    },
    "papermill": {
     "duration": 0.031141,
     "end_time": "2024-11-28T11:58:27.341564",
     "exception": false,
     "start_time": "2024-11-28T11:58:27.310423",
     "status": "completed"
    },
    "tags": []
   },
   "outputs": [
    {
     "data": {
      "text/html": [
       "<div>\n",
       "<style scoped>\n",
       "    .dataframe tbody tr th:only-of-type {\n",
       "        vertical-align: middle;\n",
       "    }\n",
       "\n",
       "    .dataframe tbody tr th {\n",
       "        vertical-align: top;\n",
       "    }\n",
       "\n",
       "    .dataframe thead th {\n",
       "        text-align: right;\n",
       "    }\n",
       "</style>\n",
       "<table border=\"1\" class=\"dataframe\">\n",
       "  <thead>\n",
       "    <tr style=\"text-align: right;\">\n",
       "      <th></th>\n",
       "      <th>movie_id</th>\n",
       "      <th>title</th>\n",
       "      <th>overview</th>\n",
       "      <th>genres</th>\n",
       "      <th>keywords</th>\n",
       "      <th>cast</th>\n",
       "      <th>crew</th>\n",
       "    </tr>\n",
       "  </thead>\n",
       "  <tbody>\n",
       "    <tr>\n",
       "      <th>0</th>\n",
       "      <td>19995</td>\n",
       "      <td>Avatar</td>\n",
       "      <td>In the 22nd century, a paraplegic Marine is di...</td>\n",
       "      <td>[Action, Adventure, Fantasy, Science Fiction]</td>\n",
       "      <td>[{\"id\": 1463, \"name\": \"culture clash\"}, {\"id\":...</td>\n",
       "      <td>[{\"cast_id\": 242, \"character\": \"Jake Sully\", \"...</td>\n",
       "      <td>[{\"credit_id\": \"52fe48009251416c750aca23\", \"de...</td>\n",
       "    </tr>\n",
       "    <tr>\n",
       "      <th>1</th>\n",
       "      <td>285</td>\n",
       "      <td>Pirates of the Caribbean: At World's End</td>\n",
       "      <td>Captain Barbossa, long believed to be dead, ha...</td>\n",
       "      <td>[Adventure, Fantasy, Action]</td>\n",
       "      <td>[{\"id\": 270, \"name\": \"ocean\"}, {\"id\": 726, \"na...</td>\n",
       "      <td>[{\"cast_id\": 4, \"character\": \"Captain Jack Spa...</td>\n",
       "      <td>[{\"credit_id\": \"52fe4232c3a36847f800b579\", \"de...</td>\n",
       "    </tr>\n",
       "    <tr>\n",
       "      <th>2</th>\n",
       "      <td>206647</td>\n",
       "      <td>Spectre</td>\n",
       "      <td>A cryptic message from Bond’s past sends him o...</td>\n",
       "      <td>[Action, Adventure, Crime]</td>\n",
       "      <td>[{\"id\": 470, \"name\": \"spy\"}, {\"id\": 818, \"name...</td>\n",
       "      <td>[{\"cast_id\": 1, \"character\": \"James Bond\", \"cr...</td>\n",
       "      <td>[{\"credit_id\": \"54805967c3a36829b5002c41\", \"de...</td>\n",
       "    </tr>\n",
       "    <tr>\n",
       "      <th>3</th>\n",
       "      <td>49026</td>\n",
       "      <td>The Dark Knight Rises</td>\n",
       "      <td>Following the death of District Attorney Harve...</td>\n",
       "      <td>[Action, Crime, Drama, Thriller]</td>\n",
       "      <td>[{\"id\": 849, \"name\": \"dc comics\"}, {\"id\": 853,...</td>\n",
       "      <td>[{\"cast_id\": 2, \"character\": \"Bruce Wayne / Ba...</td>\n",
       "      <td>[{\"credit_id\": \"52fe4781c3a36847f81398c3\", \"de...</td>\n",
       "    </tr>\n",
       "    <tr>\n",
       "      <th>4</th>\n",
       "      <td>49529</td>\n",
       "      <td>John Carter</td>\n",
       "      <td>John Carter is a war-weary, former military ca...</td>\n",
       "      <td>[Action, Adventure, Science Fiction]</td>\n",
       "      <td>[{\"id\": 818, \"name\": \"based on novel\"}, {\"id\":...</td>\n",
       "      <td>[{\"cast_id\": 5, \"character\": \"John Carter\", \"c...</td>\n",
       "      <td>[{\"credit_id\": \"52fe479ac3a36847f813eaa3\", \"de...</td>\n",
       "    </tr>\n",
       "  </tbody>\n",
       "</table>\n",
       "</div>"
      ],
      "text/plain": [
       "   movie_id                                     title  \\\n",
       "0     19995                                    Avatar   \n",
       "1       285  Pirates of the Caribbean: At World's End   \n",
       "2    206647                                   Spectre   \n",
       "3     49026                     The Dark Knight Rises   \n",
       "4     49529                               John Carter   \n",
       "\n",
       "                                            overview  \\\n",
       "0  In the 22nd century, a paraplegic Marine is di...   \n",
       "1  Captain Barbossa, long believed to be dead, ha...   \n",
       "2  A cryptic message from Bond’s past sends him o...   \n",
       "3  Following the death of District Attorney Harve...   \n",
       "4  John Carter is a war-weary, former military ca...   \n",
       "\n",
       "                                          genres  \\\n",
       "0  [Action, Adventure, Fantasy, Science Fiction]   \n",
       "1                   [Adventure, Fantasy, Action]   \n",
       "2                     [Action, Adventure, Crime]   \n",
       "3               [Action, Crime, Drama, Thriller]   \n",
       "4           [Action, Adventure, Science Fiction]   \n",
       "\n",
       "                                            keywords  \\\n",
       "0  [{\"id\": 1463, \"name\": \"culture clash\"}, {\"id\":...   \n",
       "1  [{\"id\": 270, \"name\": \"ocean\"}, {\"id\": 726, \"na...   \n",
       "2  [{\"id\": 470, \"name\": \"spy\"}, {\"id\": 818, \"name...   \n",
       "3  [{\"id\": 849, \"name\": \"dc comics\"}, {\"id\": 853,...   \n",
       "4  [{\"id\": 818, \"name\": \"based on novel\"}, {\"id\":...   \n",
       "\n",
       "                                                cast  \\\n",
       "0  [{\"cast_id\": 242, \"character\": \"Jake Sully\", \"...   \n",
       "1  [{\"cast_id\": 4, \"character\": \"Captain Jack Spa...   \n",
       "2  [{\"cast_id\": 1, \"character\": \"James Bond\", \"cr...   \n",
       "3  [{\"cast_id\": 2, \"character\": \"Bruce Wayne / Ba...   \n",
       "4  [{\"cast_id\": 5, \"character\": \"John Carter\", \"c...   \n",
       "\n",
       "                                                crew  \n",
       "0  [{\"credit_id\": \"52fe48009251416c750aca23\", \"de...  \n",
       "1  [{\"credit_id\": \"52fe4232c3a36847f800b579\", \"de...  \n",
       "2  [{\"credit_id\": \"54805967c3a36829b5002c41\", \"de...  \n",
       "3  [{\"credit_id\": \"52fe4781c3a36847f81398c3\", \"de...  \n",
       "4  [{\"credit_id\": \"52fe479ac3a36847f813eaa3\", \"de...  "
      ]
     },
     "execution_count": 18,
     "metadata": {},
     "output_type": "execute_result"
    }
   ],
   "source": [
    "movies.head()"
   ]
  },
  {
   "cell_type": "code",
   "execution_count": 19,
   "id": "bcf976c3",
   "metadata": {
    "execution": {
     "iopub.execute_input": "2024-11-28T11:58:27.367141Z",
     "iopub.status.busy": "2024-11-28T11:58:27.366385Z",
     "iopub.status.idle": "2024-11-28T11:58:27.773474Z",
     "shell.execute_reply": "2024-11-28T11:58:27.772247Z"
    },
    "papermill": {
     "duration": 0.422561,
     "end_time": "2024-11-28T11:58:27.776123",
     "exception": false,
     "start_time": "2024-11-28T11:58:27.353562",
     "status": "completed"
    },
    "tags": []
   },
   "outputs": [],
   "source": [
    "movies['keywords'] = movies['keywords'].apply(convert)"
   ]
  },
  {
   "cell_type": "code",
   "execution_count": 20,
   "id": "ebdb018f",
   "metadata": {
    "execution": {
     "iopub.execute_input": "2024-11-28T11:58:27.801350Z",
     "iopub.status.busy": "2024-11-28T11:58:27.800967Z",
     "iopub.status.idle": "2024-11-28T11:58:27.806674Z",
     "shell.execute_reply": "2024-11-28T11:58:27.805372Z"
    },
    "papermill": {
     "duration": 0.020813,
     "end_time": "2024-11-28T11:58:27.808938",
     "exception": false,
     "start_time": "2024-11-28T11:58:27.788125",
     "status": "completed"
    },
    "tags": []
   },
   "outputs": [],
   "source": [
    "def convert(obj):\n",
    "    L = []\n",
    "    counter =0 \n",
    "    for i in ast.literal_eval(obj):\n",
    "        if counter !=3:\n",
    "          L.append(i['name'])\n",
    "          counter += 1\n",
    "        else:\n",
    "           break\n",
    "    return L  "
   ]
  },
  {
   "cell_type": "code",
   "execution_count": 21,
   "id": "bc88fe14",
   "metadata": {
    "execution": {
     "iopub.execute_input": "2024-11-28T11:58:27.834278Z",
     "iopub.status.busy": "2024-11-28T11:58:27.833906Z",
     "iopub.status.idle": "2024-11-28T11:58:31.210457Z",
     "shell.execute_reply": "2024-11-28T11:58:31.208720Z"
    },
    "papermill": {
     "duration": 3.392217,
     "end_time": "2024-11-28T11:58:31.213111",
     "exception": false,
     "start_time": "2024-11-28T11:58:27.820894",
     "status": "completed"
    },
    "tags": []
   },
   "outputs": [],
   "source": [
    "movies['cast'] = movies['cast'].apply(convert)"
   ]
  },
  {
   "cell_type": "code",
   "execution_count": 22,
   "id": "3de38792",
   "metadata": {
    "execution": {
     "iopub.execute_input": "2024-11-28T11:58:31.246951Z",
     "iopub.status.busy": "2024-11-28T11:58:31.246561Z",
     "iopub.status.idle": "2024-11-28T11:58:31.265034Z",
     "shell.execute_reply": "2024-11-28T11:58:31.263844Z"
    },
    "papermill": {
     "duration": 0.037458,
     "end_time": "2024-11-28T11:58:31.267878",
     "exception": false,
     "start_time": "2024-11-28T11:58:31.230420",
     "status": "completed"
    },
    "tags": []
   },
   "outputs": [
    {
     "data": {
      "text/html": [
       "<div>\n",
       "<style scoped>\n",
       "    .dataframe tbody tr th:only-of-type {\n",
       "        vertical-align: middle;\n",
       "    }\n",
       "\n",
       "    .dataframe tbody tr th {\n",
       "        vertical-align: top;\n",
       "    }\n",
       "\n",
       "    .dataframe thead th {\n",
       "        text-align: right;\n",
       "    }\n",
       "</style>\n",
       "<table border=\"1\" class=\"dataframe\">\n",
       "  <thead>\n",
       "    <tr style=\"text-align: right;\">\n",
       "      <th></th>\n",
       "      <th>movie_id</th>\n",
       "      <th>title</th>\n",
       "      <th>overview</th>\n",
       "      <th>genres</th>\n",
       "      <th>keywords</th>\n",
       "      <th>cast</th>\n",
       "      <th>crew</th>\n",
       "    </tr>\n",
       "  </thead>\n",
       "  <tbody>\n",
       "    <tr>\n",
       "      <th>0</th>\n",
       "      <td>19995</td>\n",
       "      <td>Avatar</td>\n",
       "      <td>In the 22nd century, a paraplegic Marine is di...</td>\n",
       "      <td>[Action, Adventure, Fantasy, Science Fiction]</td>\n",
       "      <td>[culture clash, future, space war, space colon...</td>\n",
       "      <td>[Sam Worthington, Zoe Saldana, Sigourney Weaver]</td>\n",
       "      <td>[{\"credit_id\": \"52fe48009251416c750aca23\", \"de...</td>\n",
       "    </tr>\n",
       "    <tr>\n",
       "      <th>1</th>\n",
       "      <td>285</td>\n",
       "      <td>Pirates of the Caribbean: At World's End</td>\n",
       "      <td>Captain Barbossa, long believed to be dead, ha...</td>\n",
       "      <td>[Adventure, Fantasy, Action]</td>\n",
       "      <td>[ocean, drug abuse, exotic island, east india ...</td>\n",
       "      <td>[Johnny Depp, Orlando Bloom, Keira Knightley]</td>\n",
       "      <td>[{\"credit_id\": \"52fe4232c3a36847f800b579\", \"de...</td>\n",
       "    </tr>\n",
       "    <tr>\n",
       "      <th>2</th>\n",
       "      <td>206647</td>\n",
       "      <td>Spectre</td>\n",
       "      <td>A cryptic message from Bond’s past sends him o...</td>\n",
       "      <td>[Action, Adventure, Crime]</td>\n",
       "      <td>[spy, based on novel, secret agent, sequel, mi...</td>\n",
       "      <td>[Daniel Craig, Christoph Waltz, Léa Seydoux]</td>\n",
       "      <td>[{\"credit_id\": \"54805967c3a36829b5002c41\", \"de...</td>\n",
       "    </tr>\n",
       "    <tr>\n",
       "      <th>3</th>\n",
       "      <td>49026</td>\n",
       "      <td>The Dark Knight Rises</td>\n",
       "      <td>Following the death of District Attorney Harve...</td>\n",
       "      <td>[Action, Crime, Drama, Thriller]</td>\n",
       "      <td>[dc comics, crime fighter, terrorist, secret i...</td>\n",
       "      <td>[Christian Bale, Michael Caine, Gary Oldman]</td>\n",
       "      <td>[{\"credit_id\": \"52fe4781c3a36847f81398c3\", \"de...</td>\n",
       "    </tr>\n",
       "    <tr>\n",
       "      <th>4</th>\n",
       "      <td>49529</td>\n",
       "      <td>John Carter</td>\n",
       "      <td>John Carter is a war-weary, former military ca...</td>\n",
       "      <td>[Action, Adventure, Science Fiction]</td>\n",
       "      <td>[based on novel, mars, medallion, space travel...</td>\n",
       "      <td>[Taylor Kitsch, Lynn Collins, Samantha Morton]</td>\n",
       "      <td>[{\"credit_id\": \"52fe479ac3a36847f813eaa3\", \"de...</td>\n",
       "    </tr>\n",
       "  </tbody>\n",
       "</table>\n",
       "</div>"
      ],
      "text/plain": [
       "   movie_id                                     title  \\\n",
       "0     19995                                    Avatar   \n",
       "1       285  Pirates of the Caribbean: At World's End   \n",
       "2    206647                                   Spectre   \n",
       "3     49026                     The Dark Knight Rises   \n",
       "4     49529                               John Carter   \n",
       "\n",
       "                                            overview  \\\n",
       "0  In the 22nd century, a paraplegic Marine is di...   \n",
       "1  Captain Barbossa, long believed to be dead, ha...   \n",
       "2  A cryptic message from Bond’s past sends him o...   \n",
       "3  Following the death of District Attorney Harve...   \n",
       "4  John Carter is a war-weary, former military ca...   \n",
       "\n",
       "                                          genres  \\\n",
       "0  [Action, Adventure, Fantasy, Science Fiction]   \n",
       "1                   [Adventure, Fantasy, Action]   \n",
       "2                     [Action, Adventure, Crime]   \n",
       "3               [Action, Crime, Drama, Thriller]   \n",
       "4           [Action, Adventure, Science Fiction]   \n",
       "\n",
       "                                            keywords  \\\n",
       "0  [culture clash, future, space war, space colon...   \n",
       "1  [ocean, drug abuse, exotic island, east india ...   \n",
       "2  [spy, based on novel, secret agent, sequel, mi...   \n",
       "3  [dc comics, crime fighter, terrorist, secret i...   \n",
       "4  [based on novel, mars, medallion, space travel...   \n",
       "\n",
       "                                               cast  \\\n",
       "0  [Sam Worthington, Zoe Saldana, Sigourney Weaver]   \n",
       "1     [Johnny Depp, Orlando Bloom, Keira Knightley]   \n",
       "2      [Daniel Craig, Christoph Waltz, Léa Seydoux]   \n",
       "3      [Christian Bale, Michael Caine, Gary Oldman]   \n",
       "4    [Taylor Kitsch, Lynn Collins, Samantha Morton]   \n",
       "\n",
       "                                                crew  \n",
       "0  [{\"credit_id\": \"52fe48009251416c750aca23\", \"de...  \n",
       "1  [{\"credit_id\": \"52fe4232c3a36847f800b579\", \"de...  \n",
       "2  [{\"credit_id\": \"54805967c3a36829b5002c41\", \"de...  \n",
       "3  [{\"credit_id\": \"52fe4781c3a36847f81398c3\", \"de...  \n",
       "4  [{\"credit_id\": \"52fe479ac3a36847f813eaa3\", \"de...  "
      ]
     },
     "execution_count": 22,
     "metadata": {},
     "output_type": "execute_result"
    }
   ],
   "source": [
    "movies.head()"
   ]
  },
  {
   "cell_type": "code",
   "execution_count": 23,
   "id": "33e3706b",
   "metadata": {
    "execution": {
     "iopub.execute_input": "2024-11-28T11:58:31.297474Z",
     "iopub.status.busy": "2024-11-28T11:58:31.297049Z",
     "iopub.status.idle": "2024-11-28T11:58:31.303023Z",
     "shell.execute_reply": "2024-11-28T11:58:31.301762Z"
    },
    "papermill": {
     "duration": 0.022498,
     "end_time": "2024-11-28T11:58:31.305905",
     "exception": false,
     "start_time": "2024-11-28T11:58:31.283407",
     "status": "completed"
    },
    "tags": []
   },
   "outputs": [],
   "source": [
    "def fetch_director(obj):\n",
    "    L = []\n",
    "    for i in ast.literal_eval(obj):\n",
    "        if i['job'] == 'Director':\n",
    "           L.append(i['name'])\n",
    "           break\n",
    "    return L    "
   ]
  },
  {
   "cell_type": "code",
   "execution_count": 24,
   "id": "1704b4d8",
   "metadata": {
    "execution": {
     "iopub.execute_input": "2024-11-28T11:58:31.333034Z",
     "iopub.status.busy": "2024-11-28T11:58:31.332631Z",
     "iopub.status.idle": "2024-11-28T11:58:35.118526Z",
     "shell.execute_reply": "2024-11-28T11:58:35.117500Z"
    },
    "papermill": {
     "duration": 3.802073,
     "end_time": "2024-11-28T11:58:35.121148",
     "exception": false,
     "start_time": "2024-11-28T11:58:31.319075",
     "status": "completed"
    },
    "tags": []
   },
   "outputs": [],
   "source": [
    "movies['crew'] = movies['crew'].apply(fetch_director)"
   ]
  },
  {
   "cell_type": "code",
   "execution_count": 25,
   "id": "81d826c2",
   "metadata": {
    "execution": {
     "iopub.execute_input": "2024-11-28T11:58:35.149111Z",
     "iopub.status.busy": "2024-11-28T11:58:35.148732Z",
     "iopub.status.idle": "2024-11-28T11:58:35.189564Z",
     "shell.execute_reply": "2024-11-28T11:58:35.188422Z"
    },
    "papermill": {
     "duration": 0.057569,
     "end_time": "2024-11-28T11:58:35.191954",
     "exception": false,
     "start_time": "2024-11-28T11:58:35.134385",
     "status": "completed"
    },
    "tags": []
   },
   "outputs": [],
   "source": [
    "movies['overview'] = movies['overview'].apply(lambda x :x.split())"
   ]
  },
  {
   "cell_type": "code",
   "execution_count": 26,
   "id": "6a76a944",
   "metadata": {
    "execution": {
     "iopub.execute_input": "2024-11-28T11:58:35.218614Z",
     "iopub.status.busy": "2024-11-28T11:58:35.218218Z",
     "iopub.status.idle": "2024-11-28T11:58:35.339626Z",
     "shell.execute_reply": "2024-11-28T11:58:35.337727Z"
    },
    "papermill": {
     "duration": 0.138228,
     "end_time": "2024-11-28T11:58:35.342266",
     "exception": false,
     "start_time": "2024-11-28T11:58:35.204038",
     "status": "completed"
    },
    "tags": []
   },
   "outputs": [],
   "source": [
    "#to remove the spaces between the words\n",
    "movies['genres'] = movies['genres'].apply(lambda x:[i.replace(\" \",\"\")for i in x])\n",
    "movies['keywords'] = movies['keywords'].apply(lambda x:[i.replace(\" \",\"\")for i in x])\n",
    "movies['cast'] = movies['cast'].apply(lambda x:[i.replace(\" \",\"\")for i in x])\n",
    "movies['crew'] = movies['crew'].apply(lambda x:[i.replace(\" \",\"\")for i in x])\n"
   ]
  },
  {
   "cell_type": "code",
   "execution_count": 27,
   "id": "d7f7114e",
   "metadata": {
    "execution": {
     "iopub.execute_input": "2024-11-28T11:58:35.368267Z",
     "iopub.status.busy": "2024-11-28T11:58:35.367846Z",
     "iopub.status.idle": "2024-11-28T11:58:35.382096Z",
     "shell.execute_reply": "2024-11-28T11:58:35.380952Z"
    },
    "papermill": {
     "duration": 0.029662,
     "end_time": "2024-11-28T11:58:35.384285",
     "exception": false,
     "start_time": "2024-11-28T11:58:35.354623",
     "status": "completed"
    },
    "tags": []
   },
   "outputs": [
    {
     "data": {
      "text/html": [
       "<div>\n",
       "<style scoped>\n",
       "    .dataframe tbody tr th:only-of-type {\n",
       "        vertical-align: middle;\n",
       "    }\n",
       "\n",
       "    .dataframe tbody tr th {\n",
       "        vertical-align: top;\n",
       "    }\n",
       "\n",
       "    .dataframe thead th {\n",
       "        text-align: right;\n",
       "    }\n",
       "</style>\n",
       "<table border=\"1\" class=\"dataframe\">\n",
       "  <thead>\n",
       "    <tr style=\"text-align: right;\">\n",
       "      <th></th>\n",
       "      <th>movie_id</th>\n",
       "      <th>title</th>\n",
       "      <th>overview</th>\n",
       "      <th>genres</th>\n",
       "      <th>keywords</th>\n",
       "      <th>cast</th>\n",
       "      <th>crew</th>\n",
       "    </tr>\n",
       "  </thead>\n",
       "  <tbody>\n",
       "    <tr>\n",
       "      <th>0</th>\n",
       "      <td>19995</td>\n",
       "      <td>Avatar</td>\n",
       "      <td>[In, the, 22nd, century,, a, paraplegic, Marin...</td>\n",
       "      <td>[Action, Adventure, Fantasy, ScienceFiction]</td>\n",
       "      <td>[cultureclash, future, spacewar, spacecolony, ...</td>\n",
       "      <td>[SamWorthington, ZoeSaldana, SigourneyWeaver]</td>\n",
       "      <td>[JamesCameron]</td>\n",
       "    </tr>\n",
       "  </tbody>\n",
       "</table>\n",
       "</div>"
      ],
      "text/plain": [
       "   movie_id   title                                           overview  \\\n",
       "0     19995  Avatar  [In, the, 22nd, century,, a, paraplegic, Marin...   \n",
       "\n",
       "                                         genres  \\\n",
       "0  [Action, Adventure, Fantasy, ScienceFiction]   \n",
       "\n",
       "                                            keywords  \\\n",
       "0  [cultureclash, future, spacewar, spacecolony, ...   \n",
       "\n",
       "                                            cast            crew  \n",
       "0  [SamWorthington, ZoeSaldana, SigourneyWeaver]  [JamesCameron]  "
      ]
     },
     "execution_count": 27,
     "metadata": {},
     "output_type": "execute_result"
    }
   ],
   "source": [
    "movies.head(1)"
   ]
  },
  {
   "cell_type": "code",
   "execution_count": 28,
   "id": "8d7393ce",
   "metadata": {
    "execution": {
     "iopub.execute_input": "2024-11-28T11:58:35.410741Z",
     "iopub.status.busy": "2024-11-28T11:58:35.410321Z",
     "iopub.status.idle": "2024-11-28T11:58:35.476245Z",
     "shell.execute_reply": "2024-11-28T11:58:35.475144Z"
    },
    "papermill": {
     "duration": 0.082333,
     "end_time": "2024-11-28T11:58:35.478836",
     "exception": false,
     "start_time": "2024-11-28T11:58:35.396503",
     "status": "completed"
    },
    "tags": []
   },
   "outputs": [],
   "source": [
    "movies['tags'] = movies['overview']+ movies['genres']+ movies['keywords']+movies['cast']+movies['crew']"
   ]
  },
  {
   "cell_type": "code",
   "execution_count": 29,
   "id": "83c33622",
   "metadata": {
    "execution": {
     "iopub.execute_input": "2024-11-28T11:58:35.505010Z",
     "iopub.status.busy": "2024-11-28T11:58:35.504520Z",
     "iopub.status.idle": "2024-11-28T11:58:35.519632Z",
     "shell.execute_reply": "2024-11-28T11:58:35.518491Z"
    },
    "papermill": {
     "duration": 0.030637,
     "end_time": "2024-11-28T11:58:35.521793",
     "exception": false,
     "start_time": "2024-11-28T11:58:35.491156",
     "status": "completed"
    },
    "tags": []
   },
   "outputs": [
    {
     "data": {
      "text/html": [
       "<div>\n",
       "<style scoped>\n",
       "    .dataframe tbody tr th:only-of-type {\n",
       "        vertical-align: middle;\n",
       "    }\n",
       "\n",
       "    .dataframe tbody tr th {\n",
       "        vertical-align: top;\n",
       "    }\n",
       "\n",
       "    .dataframe thead th {\n",
       "        text-align: right;\n",
       "    }\n",
       "</style>\n",
       "<table border=\"1\" class=\"dataframe\">\n",
       "  <thead>\n",
       "    <tr style=\"text-align: right;\">\n",
       "      <th></th>\n",
       "      <th>movie_id</th>\n",
       "      <th>title</th>\n",
       "      <th>overview</th>\n",
       "      <th>genres</th>\n",
       "      <th>keywords</th>\n",
       "      <th>cast</th>\n",
       "      <th>crew</th>\n",
       "      <th>tags</th>\n",
       "    </tr>\n",
       "  </thead>\n",
       "  <tbody>\n",
       "    <tr>\n",
       "      <th>0</th>\n",
       "      <td>19995</td>\n",
       "      <td>Avatar</td>\n",
       "      <td>[In, the, 22nd, century,, a, paraplegic, Marin...</td>\n",
       "      <td>[Action, Adventure, Fantasy, ScienceFiction]</td>\n",
       "      <td>[cultureclash, future, spacewar, spacecolony, ...</td>\n",
       "      <td>[SamWorthington, ZoeSaldana, SigourneyWeaver]</td>\n",
       "      <td>[JamesCameron]</td>\n",
       "      <td>[In, the, 22nd, century,, a, paraplegic, Marin...</td>\n",
       "    </tr>\n",
       "  </tbody>\n",
       "</table>\n",
       "</div>"
      ],
      "text/plain": [
       "   movie_id   title                                           overview  \\\n",
       "0     19995  Avatar  [In, the, 22nd, century,, a, paraplegic, Marin...   \n",
       "\n",
       "                                         genres  \\\n",
       "0  [Action, Adventure, Fantasy, ScienceFiction]   \n",
       "\n",
       "                                            keywords  \\\n",
       "0  [cultureclash, future, spacewar, spacecolony, ...   \n",
       "\n",
       "                                            cast            crew  \\\n",
       "0  [SamWorthington, ZoeSaldana, SigourneyWeaver]  [JamesCameron]   \n",
       "\n",
       "                                                tags  \n",
       "0  [In, the, 22nd, century,, a, paraplegic, Marin...  "
      ]
     },
     "execution_count": 29,
     "metadata": {},
     "output_type": "execute_result"
    }
   ],
   "source": [
    "movies.head(1)"
   ]
  },
  {
   "cell_type": "code",
   "execution_count": 30,
   "id": "41c36eb6",
   "metadata": {
    "execution": {
     "iopub.execute_input": "2024-11-28T11:58:35.548247Z",
     "iopub.status.busy": "2024-11-28T11:58:35.547877Z",
     "iopub.status.idle": "2024-11-28T11:58:35.554500Z",
     "shell.execute_reply": "2024-11-28T11:58:35.553277Z"
    },
    "papermill": {
     "duration": 0.022732,
     "end_time": "2024-11-28T11:58:35.557045",
     "exception": false,
     "start_time": "2024-11-28T11:58:35.534313",
     "status": "completed"
    },
    "tags": []
   },
   "outputs": [],
   "source": [
    "new_df = movies[['movie_id','title','tags']]"
   ]
  },
  {
   "cell_type": "code",
   "execution_count": 31,
   "id": "62bfb7f8",
   "metadata": {
    "execution": {
     "iopub.execute_input": "2024-11-28T11:58:35.583985Z",
     "iopub.status.busy": "2024-11-28T11:58:35.583573Z",
     "iopub.status.idle": "2024-11-28T11:58:35.601392Z",
     "shell.execute_reply": "2024-11-28T11:58:35.600046Z"
    },
    "papermill": {
     "duration": 0.034197,
     "end_time": "2024-11-28T11:58:35.603843",
     "exception": false,
     "start_time": "2024-11-28T11:58:35.569646",
     "status": "completed"
    },
    "tags": []
   },
   "outputs": [
    {
     "data": {
      "text/html": [
       "<div>\n",
       "<style scoped>\n",
       "    .dataframe tbody tr th:only-of-type {\n",
       "        vertical-align: middle;\n",
       "    }\n",
       "\n",
       "    .dataframe tbody tr th {\n",
       "        vertical-align: top;\n",
       "    }\n",
       "\n",
       "    .dataframe thead th {\n",
       "        text-align: right;\n",
       "    }\n",
       "</style>\n",
       "<table border=\"1\" class=\"dataframe\">\n",
       "  <thead>\n",
       "    <tr style=\"text-align: right;\">\n",
       "      <th></th>\n",
       "      <th>movie_id</th>\n",
       "      <th>title</th>\n",
       "      <th>tags</th>\n",
       "    </tr>\n",
       "  </thead>\n",
       "  <tbody>\n",
       "    <tr>\n",
       "      <th>0</th>\n",
       "      <td>19995</td>\n",
       "      <td>Avatar</td>\n",
       "      <td>[In, the, 22nd, century,, a, paraplegic, Marin...</td>\n",
       "    </tr>\n",
       "    <tr>\n",
       "      <th>1</th>\n",
       "      <td>285</td>\n",
       "      <td>Pirates of the Caribbean: At World's End</td>\n",
       "      <td>[Captain, Barbossa,, long, believed, to, be, d...</td>\n",
       "    </tr>\n",
       "    <tr>\n",
       "      <th>2</th>\n",
       "      <td>206647</td>\n",
       "      <td>Spectre</td>\n",
       "      <td>[A, cryptic, message, from, Bond’s, past, send...</td>\n",
       "    </tr>\n",
       "    <tr>\n",
       "      <th>3</th>\n",
       "      <td>49026</td>\n",
       "      <td>The Dark Knight Rises</td>\n",
       "      <td>[Following, the, death, of, District, Attorney...</td>\n",
       "    </tr>\n",
       "    <tr>\n",
       "      <th>4</th>\n",
       "      <td>49529</td>\n",
       "      <td>John Carter</td>\n",
       "      <td>[John, Carter, is, a, war-weary,, former, mili...</td>\n",
       "    </tr>\n",
       "    <tr>\n",
       "      <th>...</th>\n",
       "      <td>...</td>\n",
       "      <td>...</td>\n",
       "      <td>...</td>\n",
       "    </tr>\n",
       "    <tr>\n",
       "      <th>4804</th>\n",
       "      <td>9367</td>\n",
       "      <td>El Mariachi</td>\n",
       "      <td>[El, Mariachi, just, wants, to, play, his, gui...</td>\n",
       "    </tr>\n",
       "    <tr>\n",
       "      <th>4805</th>\n",
       "      <td>72766</td>\n",
       "      <td>Newlyweds</td>\n",
       "      <td>[A, newlywed, couple's, honeymoon, is, upended...</td>\n",
       "    </tr>\n",
       "    <tr>\n",
       "      <th>4806</th>\n",
       "      <td>231617</td>\n",
       "      <td>Signed, Sealed, Delivered</td>\n",
       "      <td>[\"Signed,, Sealed,, Delivered\", introduces, a,...</td>\n",
       "    </tr>\n",
       "    <tr>\n",
       "      <th>4807</th>\n",
       "      <td>126186</td>\n",
       "      <td>Shanghai Calling</td>\n",
       "      <td>[When, ambitious, New, York, attorney, Sam, is...</td>\n",
       "    </tr>\n",
       "    <tr>\n",
       "      <th>4808</th>\n",
       "      <td>25975</td>\n",
       "      <td>My Date with Drew</td>\n",
       "      <td>[Ever, since, the, second, grade, when, he, fi...</td>\n",
       "    </tr>\n",
       "  </tbody>\n",
       "</table>\n",
       "<p>4806 rows × 3 columns</p>\n",
       "</div>"
      ],
      "text/plain": [
       "      movie_id                                     title  \\\n",
       "0        19995                                    Avatar   \n",
       "1          285  Pirates of the Caribbean: At World's End   \n",
       "2       206647                                   Spectre   \n",
       "3        49026                     The Dark Knight Rises   \n",
       "4        49529                               John Carter   \n",
       "...        ...                                       ...   \n",
       "4804      9367                               El Mariachi   \n",
       "4805     72766                                 Newlyweds   \n",
       "4806    231617                 Signed, Sealed, Delivered   \n",
       "4807    126186                          Shanghai Calling   \n",
       "4808     25975                         My Date with Drew   \n",
       "\n",
       "                                                   tags  \n",
       "0     [In, the, 22nd, century,, a, paraplegic, Marin...  \n",
       "1     [Captain, Barbossa,, long, believed, to, be, d...  \n",
       "2     [A, cryptic, message, from, Bond’s, past, send...  \n",
       "3     [Following, the, death, of, District, Attorney...  \n",
       "4     [John, Carter, is, a, war-weary,, former, mili...  \n",
       "...                                                 ...  \n",
       "4804  [El, Mariachi, just, wants, to, play, his, gui...  \n",
       "4805  [A, newlywed, couple's, honeymoon, is, upended...  \n",
       "4806  [\"Signed,, Sealed,, Delivered\", introduces, a,...  \n",
       "4807  [When, ambitious, New, York, attorney, Sam, is...  \n",
       "4808  [Ever, since, the, second, grade, when, he, fi...  \n",
       "\n",
       "[4806 rows x 3 columns]"
      ]
     },
     "execution_count": 31,
     "metadata": {},
     "output_type": "execute_result"
    }
   ],
   "source": [
    "new_df"
   ]
  },
  {
   "cell_type": "code",
   "execution_count": 32,
   "id": "259943e8",
   "metadata": {
    "execution": {
     "iopub.execute_input": "2024-11-28T11:58:35.631158Z",
     "iopub.status.busy": "2024-11-28T11:58:35.630752Z",
     "iopub.status.idle": "2024-11-28T11:58:35.649708Z",
     "shell.execute_reply": "2024-11-28T11:58:35.648534Z"
    },
    "papermill": {
     "duration": 0.035231,
     "end_time": "2024-11-28T11:58:35.651979",
     "exception": false,
     "start_time": "2024-11-28T11:58:35.616748",
     "status": "completed"
    },
    "tags": []
   },
   "outputs": [
    {
     "name": "stderr",
     "output_type": "stream",
     "text": [
      "/tmp/ipykernel_17/3089450492.py:1: SettingWithCopyWarning: \n",
      "A value is trying to be set on a copy of a slice from a DataFrame.\n",
      "Try using .loc[row_indexer,col_indexer] = value instead\n",
      "\n",
      "See the caveats in the documentation: https://pandas.pydata.org/pandas-docs/stable/user_guide/indexing.html#returning-a-view-versus-a-copy\n",
      "  new_df['tags'] = new_df['tags'].apply(lambda x:\" \".join(x))\n"
     ]
    }
   ],
   "source": [
    "new_df['tags'] = new_df['tags'].apply(lambda x:\" \".join(x))"
   ]
  },
  {
   "cell_type": "code",
   "execution_count": 33,
   "id": "fc1a98fd",
   "metadata": {
    "execution": {
     "iopub.execute_input": "2024-11-28T11:58:35.679457Z",
     "iopub.status.busy": "2024-11-28T11:58:35.679034Z",
     "iopub.status.idle": "2024-11-28T11:58:35.686443Z",
     "shell.execute_reply": "2024-11-28T11:58:35.685350Z"
    },
    "papermill": {
     "duration": 0.023891,
     "end_time": "2024-11-28T11:58:35.688704",
     "exception": false,
     "start_time": "2024-11-28T11:58:35.664813",
     "status": "completed"
    },
    "tags": []
   },
   "outputs": [
    {
     "data": {
      "text/plain": [
       "'In the 22nd century, a paraplegic Marine is dispatched to the moon Pandora on a unique mission, but becomes torn between following orders and protecting an alien civilization. Action Adventure Fantasy ScienceFiction cultureclash future spacewar spacecolony society spacetravel futuristic romance space alien tribe alienplanet cgi marine soldier battle loveaffair antiwar powerrelations mindandsoul 3d SamWorthington ZoeSaldana SigourneyWeaver JamesCameron'"
      ]
     },
     "execution_count": 33,
     "metadata": {},
     "output_type": "execute_result"
    }
   ],
   "source": [
    "new_df['tags'][0]"
   ]
  },
  {
   "cell_type": "code",
   "execution_count": 34,
   "id": "a921ae09",
   "metadata": {
    "execution": {
     "iopub.execute_input": "2024-11-28T11:58:35.716464Z",
     "iopub.status.busy": "2024-11-28T11:58:35.715426Z",
     "iopub.status.idle": "2024-11-28T11:58:35.733035Z",
     "shell.execute_reply": "2024-11-28T11:58:35.731956Z"
    },
    "papermill": {
     "duration": 0.033827,
     "end_time": "2024-11-28T11:58:35.735414",
     "exception": false,
     "start_time": "2024-11-28T11:58:35.701587",
     "status": "completed"
    },
    "tags": []
   },
   "outputs": [
    {
     "name": "stderr",
     "output_type": "stream",
     "text": [
      "/tmp/ipykernel_17/1380776331.py:1: SettingWithCopyWarning: \n",
      "A value is trying to be set on a copy of a slice from a DataFrame.\n",
      "Try using .loc[row_indexer,col_indexer] = value instead\n",
      "\n",
      "See the caveats in the documentation: https://pandas.pydata.org/pandas-docs/stable/user_guide/indexing.html#returning-a-view-versus-a-copy\n",
      "  new_df['tags'] = new_df['tags'].apply(lambda x: x.lower())\n"
     ]
    }
   ],
   "source": [
    "new_df['tags'] = new_df['tags'].apply(lambda x: x.lower())"
   ]
  },
  {
   "cell_type": "code",
   "execution_count": 35,
   "id": "1a284676",
   "metadata": {
    "execution": {
     "iopub.execute_input": "2024-11-28T11:58:35.763214Z",
     "iopub.status.busy": "2024-11-28T11:58:35.762826Z",
     "iopub.status.idle": "2024-11-28T11:58:35.773488Z",
     "shell.execute_reply": "2024-11-28T11:58:35.772419Z"
    },
    "papermill": {
     "duration": 0.027026,
     "end_time": "2024-11-28T11:58:35.775547",
     "exception": false,
     "start_time": "2024-11-28T11:58:35.748521",
     "status": "completed"
    },
    "tags": []
   },
   "outputs": [
    {
     "data": {
      "text/html": [
       "<div>\n",
       "<style scoped>\n",
       "    .dataframe tbody tr th:only-of-type {\n",
       "        vertical-align: middle;\n",
       "    }\n",
       "\n",
       "    .dataframe tbody tr th {\n",
       "        vertical-align: top;\n",
       "    }\n",
       "\n",
       "    .dataframe thead th {\n",
       "        text-align: right;\n",
       "    }\n",
       "</style>\n",
       "<table border=\"1\" class=\"dataframe\">\n",
       "  <thead>\n",
       "    <tr style=\"text-align: right;\">\n",
       "      <th></th>\n",
       "      <th>movie_id</th>\n",
       "      <th>title</th>\n",
       "      <th>tags</th>\n",
       "    </tr>\n",
       "  </thead>\n",
       "  <tbody>\n",
       "    <tr>\n",
       "      <th>0</th>\n",
       "      <td>19995</td>\n",
       "      <td>Avatar</td>\n",
       "      <td>in the 22nd century, a paraplegic marine is di...</td>\n",
       "    </tr>\n",
       "  </tbody>\n",
       "</table>\n",
       "</div>"
      ],
      "text/plain": [
       "   movie_id   title                                               tags\n",
       "0     19995  Avatar  in the 22nd century, a paraplegic marine is di..."
      ]
     },
     "execution_count": 35,
     "metadata": {},
     "output_type": "execute_result"
    }
   ],
   "source": [
    "new_df.head(1)"
   ]
  },
  {
   "cell_type": "code",
   "execution_count": 36,
   "id": "ef9f8d7f",
   "metadata": {
    "execution": {
     "iopub.execute_input": "2024-11-28T11:58:35.803094Z",
     "iopub.status.busy": "2024-11-28T11:58:35.802731Z",
     "iopub.status.idle": "2024-11-28T11:58:35.807267Z",
     "shell.execute_reply": "2024-11-28T11:58:35.806136Z"
    },
    "papermill": {
     "duration": 0.020794,
     "end_time": "2024-11-28T11:58:35.809443",
     "exception": false,
     "start_time": "2024-11-28T11:58:35.788649",
     "status": "completed"
    },
    "tags": []
   },
   "outputs": [],
   "source": [
    "#text vectorization\n",
    "#every point in a 2d space is a vector, let every point be a movie. to find the similarity between the movies , we find the closest vectors. the text are converted into vectors called text vectorization, \n",
    "#with the help of bag of vectors. all the words are combined making it a large string, and take the most common words,by comparing with another vector, and fetch a common closest vector.\n",
    "#in this process also stop words(a,and,are,also,etc.)are not allowed/used.\n",
    "\n"
   ]
  },
  {
   "cell_type": "code",
   "execution_count": 37,
   "id": "4f688112",
   "metadata": {
    "execution": {
     "iopub.execute_input": "2024-11-28T11:58:35.837111Z",
     "iopub.status.busy": "2024-11-28T11:58:35.836637Z",
     "iopub.status.idle": "2024-11-28T11:58:37.313449Z",
     "shell.execute_reply": "2024-11-28T11:58:37.312138Z"
    },
    "papermill": {
     "duration": 1.493832,
     "end_time": "2024-11-28T11:58:37.316364",
     "exception": false,
     "start_time": "2024-11-28T11:58:35.822532",
     "status": "completed"
    },
    "tags": []
   },
   "outputs": [],
   "source": [
    "from sklearn.feature_extraction.text import CountVectorizer\n",
    "cv = CountVectorizer(max_features = 5000, stop_words = 'english')"
   ]
  },
  {
   "cell_type": "code",
   "execution_count": 38,
   "id": "86cd1ff7",
   "metadata": {
    "execution": {
     "iopub.execute_input": "2024-11-28T11:58:37.345313Z",
     "iopub.status.busy": "2024-11-28T11:58:37.344672Z",
     "iopub.status.idle": "2024-11-28T11:58:37.902957Z",
     "shell.execute_reply": "2024-11-28T11:58:37.901814Z"
    },
    "papermill": {
     "duration": 0.575299,
     "end_time": "2024-11-28T11:58:37.905558",
     "exception": false,
     "start_time": "2024-11-28T11:58:37.330259",
     "status": "completed"
    },
    "tags": []
   },
   "outputs": [],
   "source": [
    "#to transform tags and explicitly converting into numpy arrray because CV returns scipy sparse matrix\n",
    "vectors = cv.fit_transform(new_df['tags']).toarray()\n"
   ]
  },
  {
   "cell_type": "code",
   "execution_count": 39,
   "id": "d4dd5cb9",
   "metadata": {
    "execution": {
     "iopub.execute_input": "2024-11-28T11:58:37.933668Z",
     "iopub.status.busy": "2024-11-28T11:58:37.933292Z",
     "iopub.status.idle": "2024-11-28T11:58:38.494405Z",
     "shell.execute_reply": "2024-11-28T11:58:38.493224Z"
    },
    "papermill": {
     "duration": 0.577819,
     "end_time": "2024-11-28T11:58:38.496792",
     "exception": false,
     "start_time": "2024-11-28T11:58:37.918973",
     "status": "completed"
    },
    "tags": []
   },
   "outputs": [
    {
     "data": {
      "text/plain": [
       "(4806, 5000)"
      ]
     },
     "execution_count": 39,
     "metadata": {},
     "output_type": "execute_result"
    }
   ],
   "source": [
    "cv.fit_transform(new_df['tags']).toarray().shape"
   ]
  },
  {
   "cell_type": "code",
   "execution_count": 40,
   "id": "2d35167c",
   "metadata": {
    "execution": {
     "iopub.execute_input": "2024-11-28T11:58:38.525448Z",
     "iopub.status.busy": "2024-11-28T11:58:38.524541Z",
     "iopub.status.idle": "2024-11-28T11:58:38.531699Z",
     "shell.execute_reply": "2024-11-28T11:58:38.530513Z"
    },
    "papermill": {
     "duration": 0.02402,
     "end_time": "2024-11-28T11:58:38.534013",
     "exception": false,
     "start_time": "2024-11-28T11:58:38.509993",
     "status": "completed"
    },
    "tags": []
   },
   "outputs": [
    {
     "data": {
      "text/plain": [
       "array([[0, 0, 0, ..., 0, 0, 0],\n",
       "       [0, 0, 0, ..., 0, 0, 0],\n",
       "       [0, 0, 0, ..., 0, 0, 0],\n",
       "       ...,\n",
       "       [0, 0, 0, ..., 0, 0, 0],\n",
       "       [0, 0, 0, ..., 0, 0, 0],\n",
       "       [0, 0, 0, ..., 0, 0, 0]])"
      ]
     },
     "execution_count": 40,
     "metadata": {},
     "output_type": "execute_result"
    }
   ],
   "source": [
    "vectors"
   ]
  },
  {
   "cell_type": "code",
   "execution_count": 41,
   "id": "5326bedd",
   "metadata": {
    "execution": {
     "iopub.execute_input": "2024-11-28T11:58:38.563101Z",
     "iopub.status.busy": "2024-11-28T11:58:38.562723Z",
     "iopub.status.idle": "2024-11-28T11:58:38.573176Z",
     "shell.execute_reply": "2024-11-28T11:58:38.571946Z"
    },
    "papermill": {
     "duration": 0.028404,
     "end_time": "2024-11-28T11:58:38.575911",
     "exception": false,
     "start_time": "2024-11-28T11:58:38.547507",
     "status": "completed"
    },
    "tags": []
   },
   "outputs": [
    {
     "name": "stdout",
     "output_type": "stream",
     "text": [
      "['000' '007' '10' ... 'zone' 'zoo' 'zooeydeschanel']\n"
     ]
    }
   ],
   "source": [
    "feature_names = (cv.get_feature_names_out())\n",
    "print(feature_names)\n"
   ]
  },
  {
   "cell_type": "code",
   "execution_count": 42,
   "id": "038afbfb",
   "metadata": {
    "execution": {
     "iopub.execute_input": "2024-11-28T11:58:38.604573Z",
     "iopub.status.busy": "2024-11-28T11:58:38.604159Z",
     "iopub.status.idle": "2024-11-28T11:58:39.339530Z",
     "shell.execute_reply": "2024-11-28T11:58:39.338225Z"
    },
    "papermill": {
     "duration": 0.752816,
     "end_time": "2024-11-28T11:58:39.342054",
     "exception": false,
     "start_time": "2024-11-28T11:58:38.589238",
     "status": "completed"
    },
    "tags": []
   },
   "outputs": [],
   "source": [
    "#now we perform stemming\n",
    "import nltk\n",
    "from nltk.stem.porter import PorterStemmer\n",
    "ps = PorterStemmer()"
   ]
  },
  {
   "cell_type": "code",
   "execution_count": 43,
   "id": "c95d48a0",
   "metadata": {
    "execution": {
     "iopub.execute_input": "2024-11-28T11:58:39.371710Z",
     "iopub.status.busy": "2024-11-28T11:58:39.370520Z",
     "iopub.status.idle": "2024-11-28T11:58:39.377096Z",
     "shell.execute_reply": "2024-11-28T11:58:39.375904Z"
    },
    "papermill": {
     "duration": 0.023919,
     "end_time": "2024-11-28T11:58:39.379593",
     "exception": false,
     "start_time": "2024-11-28T11:58:39.355674",
     "status": "completed"
    },
    "tags": []
   },
   "outputs": [],
   "source": [
    "#helper function\n",
    "def stem(text):\n",
    "    #this line down creates a list named y.\n",
    "    y = []\n",
    "\n",
    "    #for text chosen is split,and stemming\n",
    "    for i in text.split():\n",
    "      y.append(ps.stem(i))#the line appends in y list of the line we choose for stemming.\n",
    "    return \" \".join(y)    "
   ]
  },
  {
   "cell_type": "code",
   "execution_count": 44,
   "id": "eb61c15f",
   "metadata": {
    "execution": {
     "iopub.execute_input": "2024-11-28T11:58:39.409573Z",
     "iopub.status.busy": "2024-11-28T11:58:39.409048Z",
     "iopub.status.idle": "2024-11-28T11:58:39.416613Z",
     "shell.execute_reply": "2024-11-28T11:58:39.415354Z"
    },
    "papermill": {
     "duration": 0.025873,
     "end_time": "2024-11-28T11:58:39.418764",
     "exception": false,
     "start_time": "2024-11-28T11:58:39.392891",
     "status": "completed"
    },
    "tags": []
   },
   "outputs": [
    {
     "data": {
      "text/plain": [
       "'in the 22nd century, a paraplegic marine is dispatched to the moon pandora on a unique mission, but becomes torn between following orders and protecting an alien civilization. action adventure fantasy sciencefiction cultureclash future spacewar spacecolony society spacetravel futuristic romance space alien tribe alienplanet cgi marine soldier battle loveaffair antiwar powerrelations mindandsoul 3d samworthington zoesaldana sigourneyweaver jamescameron'"
      ]
     },
     "execution_count": 44,
     "metadata": {},
     "output_type": "execute_result"
    }
   ],
   "source": [
    "new_df['tags'][0]"
   ]
  },
  {
   "cell_type": "code",
   "execution_count": 45,
   "id": "3dfb678e",
   "metadata": {
    "execution": {
     "iopub.execute_input": "2024-11-28T11:58:39.448009Z",
     "iopub.status.busy": "2024-11-28T11:58:39.447570Z",
     "iopub.status.idle": "2024-11-28T11:58:39.454781Z",
     "shell.execute_reply": "2024-11-28T11:58:39.453575Z"
    },
    "papermill": {
     "duration": 0.024832,
     "end_time": "2024-11-28T11:58:39.457258",
     "exception": false,
     "start_time": "2024-11-28T11:58:39.432426",
     "status": "completed"
    },
    "tags": []
   },
   "outputs": [
    {
     "data": {
      "text/plain": [
       "\"new york fashion designer melanie carmichael suddenly finds herself engaged to the city's most eligible bachelor. but melanie's past holds many secrets, including jake, the redneck husband she married in high school, who refuses to divorce her. bound and determined to end their contentious relationship once and for all, melanie sneaks back home to alabama to confront her past. comedy romance newyork marriageproposal alabama careerwoman fashiondesigner reesewitherspoon joshlucas patrickdempsey andytennant\""
      ]
     },
     "execution_count": 45,
     "metadata": {},
     "output_type": "execute_result"
    }
   ],
   "source": [
    "new_df['tags'][1300]"
   ]
  },
  {
   "cell_type": "code",
   "execution_count": 46,
   "id": "d9a5f917",
   "metadata": {
    "execution": {
     "iopub.execute_input": "2024-11-28T11:58:39.485837Z",
     "iopub.status.busy": "2024-11-28T11:58:39.485435Z",
     "iopub.status.idle": "2024-11-28T11:58:39.494383Z",
     "shell.execute_reply": "2024-11-28T11:58:39.493229Z"
    },
    "papermill": {
     "duration": 0.025688,
     "end_time": "2024-11-28T11:58:39.496608",
     "exception": false,
     "start_time": "2024-11-28T11:58:39.470920",
     "status": "completed"
    },
    "tags": []
   },
   "outputs": [
    {
     "data": {
      "text/plain": [
       "'in the 22nd century, a parapleg marin is dispatch to the moon pandora on a uniqu mission, but becom torn between follow order and protect an alien civilization. action adventur fantasi sciencefict cultureclash futur spacewar spacecoloni societi spacetravel futurist romanc space alien tribe alienplanet cgi marin soldier battl loveaffair antiwar powerrel mindandsoul 3d samworthington zoesaldana sigourneyweav jamescameron'"
      ]
     },
     "execution_count": 46,
     "metadata": {},
     "output_type": "execute_result"
    }
   ],
   "source": [
    "stem('in the 22nd century, a paraplegic marine is dispatched to the moon pandora on a unique mission, but becomes torn between following orders and protecting an alien civilization. action adventure fantasy sciencefiction cultureclash future spacewar spacecolony society spacetravel futuristic romance space alien tribe alienplanet cgi marine soldier battle loveaffair antiwar powerrelations mindandsoul 3d samworthington zoesaldana sigourneyweaver jamescameron')"
   ]
  },
  {
   "cell_type": "code",
   "execution_count": 47,
   "id": "e7a9c37b",
   "metadata": {
    "execution": {
     "iopub.execute_input": "2024-11-28T11:58:39.525368Z",
     "iopub.status.busy": "2024-11-28T11:58:39.524937Z",
     "iopub.status.idle": "2024-11-28T11:58:45.169198Z",
     "shell.execute_reply": "2024-11-28T11:58:45.167726Z"
    },
    "papermill": {
     "duration": 5.661321,
     "end_time": "2024-11-28T11:58:45.171557",
     "exception": false,
     "start_time": "2024-11-28T11:58:39.510236",
     "status": "completed"
    },
    "tags": []
   },
   "outputs": [
    {
     "name": "stderr",
     "output_type": "stream",
     "text": [
      "/tmp/ipykernel_17/3213734980.py:1: SettingWithCopyWarning: \n",
      "A value is trying to be set on a copy of a slice from a DataFrame.\n",
      "Try using .loc[row_indexer,col_indexer] = value instead\n",
      "\n",
      "See the caveats in the documentation: https://pandas.pydata.org/pandas-docs/stable/user_guide/indexing.html#returning-a-view-versus-a-copy\n",
      "  new_df['tags'] = new_df['tags'].apply(stem)\n"
     ]
    }
   ],
   "source": [
    "new_df['tags'] = new_df['tags'].apply(stem)"
   ]
  },
  {
   "cell_type": "code",
   "execution_count": 48,
   "id": "a8824758",
   "metadata": {
    "execution": {
     "iopub.execute_input": "2024-11-28T11:58:45.201853Z",
     "iopub.status.busy": "2024-11-28T11:58:45.200994Z",
     "iopub.status.idle": "2024-11-28T11:58:47.244192Z",
     "shell.execute_reply": "2024-11-28T11:58:47.241738Z"
    },
    "papermill": {
     "duration": 2.062376,
     "end_time": "2024-11-28T11:58:47.247696",
     "exception": false,
     "start_time": "2024-11-28T11:58:45.185320",
     "status": "completed"
    },
    "tags": []
   },
   "outputs": [
    {
     "data": {
      "text/plain": [
       "array([[1.        , 0.08964215, 0.05976143, ..., 0.02519763, 0.02817181,\n",
       "        0.        ],\n",
       "       [0.08964215, 1.        , 0.0625    , ..., 0.02635231, 0.        ,\n",
       "        0.        ],\n",
       "       [0.05976143, 0.0625    , 1.        , ..., 0.02635231, 0.        ,\n",
       "        0.        ],\n",
       "       ...,\n",
       "       [0.02519763, 0.02635231, 0.02635231, ..., 1.        , 0.0745356 ,\n",
       "        0.04836508],\n",
       "       [0.02817181, 0.        , 0.        , ..., 0.0745356 , 1.        ,\n",
       "        0.05407381],\n",
       "       [0.        , 0.        , 0.        , ..., 0.04836508, 0.05407381,\n",
       "        1.        ]])"
      ]
     },
     "execution_count": 48,
     "metadata": {},
     "output_type": "execute_result"
    }
   ],
   "source": [
    "#we have to calculate distance for every single comparison of one movie to another. the distance calculated will not be eucliean distance (which is tip to tip distance)\n",
    "#rather we calculate cosine distance i.e. angle between the vectors.here we are dealing with 5000 dimensions for which euclidean is not reliable.Also(distance =1/similarity)\n",
    "#we can get cosine  similarity from scikit learn\n",
    "from sklearn.metrics.pairwise import cosine_similarity\n",
    "cosine_similarity(vectors)\n"
   ]
  },
  {
   "cell_type": "code",
   "execution_count": 49,
   "id": "80b7b681",
   "metadata": {
    "execution": {
     "iopub.execute_input": "2024-11-28T11:58:47.286478Z",
     "iopub.status.busy": "2024-11-28T11:58:47.286034Z",
     "iopub.status.idle": "2024-11-28T11:58:47.293452Z",
     "shell.execute_reply": "2024-11-28T11:58:47.292150Z"
    },
    "papermill": {
     "duration": 0.025191,
     "end_time": "2024-11-28T11:58:47.296047",
     "exception": false,
     "start_time": "2024-11-28T11:58:47.270856",
     "status": "completed"
    },
    "tags": []
   },
   "outputs": [
    {
     "data": {
      "text/plain": [
       "(4806, 5000)"
      ]
     },
     "execution_count": 49,
     "metadata": {},
     "output_type": "execute_result"
    }
   ],
   "source": [
    "vectors.shape"
   ]
  },
  {
   "cell_type": "code",
   "execution_count": 50,
   "id": "96cf5b42",
   "metadata": {
    "execution": {
     "iopub.execute_input": "2024-11-28T11:58:47.327073Z",
     "iopub.status.busy": "2024-11-28T11:58:47.326689Z",
     "iopub.status.idle": "2024-11-28T11:58:49.318315Z",
     "shell.execute_reply": "2024-11-28T11:58:49.317150Z"
    },
    "papermill": {
     "duration": 2.011058,
     "end_time": "2024-11-28T11:58:49.321594",
     "exception": false,
     "start_time": "2024-11-28T11:58:47.310536",
     "status": "completed"
    },
    "tags": []
   },
   "outputs": [],
   "source": [
    "similarity = cosine_similarity(vectors)"
   ]
  },
  {
   "cell_type": "code",
   "execution_count": 51,
   "id": "87fa1c00",
   "metadata": {
    "execution": {
     "iopub.execute_input": "2024-11-28T11:58:49.358719Z",
     "iopub.status.busy": "2024-11-28T11:58:49.358320Z",
     "iopub.status.idle": "2024-11-28T11:58:49.400309Z",
     "shell.execute_reply": "2024-11-28T11:58:49.399168Z"
    },
    "papermill": {
     "duration": 0.060442,
     "end_time": "2024-11-28T11:58:49.403023",
     "exception": false,
     "start_time": "2024-11-28T11:58:49.342581",
     "status": "completed"
    },
    "tags": []
   },
   "outputs": [
    {
     "data": {
      "text/plain": [
       "[(0, 1.0),\n",
       " (539, 0.26089696604360174),\n",
       " (1192, 0.2581988897471611),\n",
       " (507, 0.25302403842552984),\n",
       " (260, 0.25110592822973776),\n",
       " (1214, 0.24944382578492943),\n",
       " (582, 0.24397501823713333),\n",
       " (1916, 0.243599382882345),\n",
       " (3728, 0.23904572186687872),\n",
       " (1440, 0.2344036154692477),\n",
       " (74, 0.22677868380553634),\n",
       " (3606, 0.2238868314198225),\n",
       " (322, 0.22230800575069137),\n",
       " (83, 0.22190115272469205),\n",
       " (61, 0.22131333406899523),\n",
       " (1202, 0.2193633988428327),\n",
       " (2329, 0.2173253797873328),\n",
       " (2405, 0.21653278478430668),\n",
       " (47, 0.2164218276749025),\n",
       " (495, 0.2162249910469341),\n",
       " (4190, 0.2162249910469341),\n",
       " (972, 0.21602468994692864),\n",
       " (1533, 0.21602468994692864),\n",
       " (942, 0.21251185925162067),\n",
       " (466, 0.2114722130550724),\n",
       " (1327, 0.21147221305507238),\n",
       " (2969, 0.21096325392232296),\n",
       " (2200, 0.2059714602177749),\n",
       " (973, 0.20291986247835692),\n",
       " (1199, 0.20283702113484398),\n",
       " (151, 0.19920476822239894),\n",
       " (1273, 0.19889806323953876),\n",
       " (4046, 0.1980534816610477),\n",
       " (2997, 0.19518001458970666),\n",
       " (4405, 0.19518001458970666),\n",
       " (3536, 0.19451950503185494),\n",
       " (3325, 0.1938916835823703),\n",
       " (305, 0.19320245583349133),\n",
       " (3160, 0.19317811536651805),\n",
       " (2782, 0.19166296949998196),\n",
       " (150, 0.1901597073139162),\n",
       " (27, 0.1893524273324603),\n",
       " (1319, 0.1889822365046136),\n",
       " (220, 0.18832944617230335),\n",
       " (931, 0.18832944617230335),\n",
       " (1069, 0.18708286933869706),\n",
       " (36, 0.18478728707195913),\n",
       " (300, 0.18478728707195913),\n",
       " (301, 0.1831403087002079),\n",
       " (184, 0.1825741858350554),\n",
       " (4, 0.18257418583505536),\n",
       " (461, 0.18018749253911176),\n",
       " (67, 0.17928429140015903),\n",
       " (46, 0.1765469659009499),\n",
       " (7, 0.1763834207376394),\n",
       " (373, 0.17622684421256032),\n",
       " (1827, 0.17445567519772937),\n",
       " (2492, 0.17251638983558856),\n",
       " (2727, 0.17251638983558856),\n",
       " (149, 0.1717355162964367),\n",
       " (26, 0.17142857142857143),\n",
       " (1342, 0.17142857142857143),\n",
       " (661, 0.17036708399998393),\n",
       " (208, 0.1690308509457033),\n",
       " (1804, 0.1690308509457033),\n",
       " (4008, 0.1690308509457033),\n",
       " (108, 0.16903085094570328),\n",
       " (838, 0.16903085094570328),\n",
       " (94, 0.16574838603294897),\n",
       " (581, 0.16574838603294897),\n",
       " (1392, 0.16408253082847338),\n",
       " (31, 0.16265001215808886),\n",
       " (2511, 0.16265001215808886),\n",
       " (1295, 0.16239958858823),\n",
       " (4336, 0.16239958858823),\n",
       " (168, 0.16035674514745463),\n",
       " (1379, 0.16035674514745463),\n",
       " (91, 0.15971914124998493),\n",
       " (3352, 0.15694120514358612),\n",
       " (3626, 0.15694120514358612),\n",
       " (311, 0.1564921592871903),\n",
       " (1961, 0.1553638665664663),\n",
       " (577, 0.15430334996209188),\n",
       " (158, 0.15289415743128765),\n",
       " (502, 0.15289415743128765),\n",
       " (1353, 0.15289415743128765),\n",
       " (111, 0.15179418517972906),\n",
       " (1176, 0.15179418517972906),\n",
       " (2165, 0.15179418517972906),\n",
       " (172, 0.15118578920369088),\n",
       " (490, 0.15118578920369088),\n",
       " (17, 0.15026857675938213),\n",
       " (1934, 0.14953343588376802),\n",
       " (422, 0.14754222271266348),\n",
       " (505, 0.14754222271266348),\n",
       " (1484, 0.14754222271266348),\n",
       " (41, 0.14638501094227999),\n",
       " (84, 0.1456438162508838),\n",
       " (332, 0.1449427589131121),\n",
       " (557, 0.1449427589131121),\n",
       " (568, 0.1449427589131121),\n",
       " (2682, 0.1449427589131121),\n",
       " (56, 0.14414999403128942),\n",
       " (249, 0.14414999403128942),\n",
       " (1325, 0.14414999403128942),\n",
       " (2580, 0.14414999403128942),\n",
       " (3997, 0.14414999403128942),\n",
       " (1218, 0.14285714285714285),\n",
       " (1320, 0.14201432049934523),\n",
       " (487, 0.14098147537004826),\n",
       " (187, 0.14085904245475275),\n",
       " (1941, 0.14085904245475275),\n",
       " (1669, 0.1406421692815486),\n",
       " (4348, 0.1406421692815486),\n",
       " (2869, 0.13930903806377162),\n",
       " (52, 0.1389425035941821),\n",
       " (413, 0.1389425035941821),\n",
       " (1829, 0.13801311186847084),\n",
       " (2616, 0.13801311186847084),\n",
       " (2968, 0.13801311186847084),\n",
       " (4490, 0.13801311186847084),\n",
       " (2129, 0.13801311186847082),\n",
       " (1013, 0.13710212427677043),\n",
       " (3407, 0.13710212427677043),\n",
       " (3620, 0.13710212427677043),\n",
       " (127, 0.13662601021279464),\n",
       " (342, 0.13662601021279464),\n",
       " (2476, 0.13552618543578768),\n",
       " (595, 0.13533299049019168),\n",
       " (1297, 0.13533299049019168),\n",
       " (1475, 0.13533299049019168),\n",
       " (68, 0.13522468075656266),\n",
       " (134, 0.13522468075656266),\n",
       " (368, 0.13522468075656266),\n",
       " (1156, 0.13522468075656266),\n",
       " (1000, 0.13433209885189348),\n",
       " (3671, 0.1336306209562122),\n",
       " (1045, 0.13259870882635919),\n",
       " (1094, 0.13259870882635919),\n",
       " (1743, 0.13259870882635919),\n",
       " (2374, 0.13259870882635919),\n",
       " (3374, 0.13259870882635919),\n",
       " (740, 0.13199091933711365),\n",
       " (1711, 0.1309307341415954),\n",
       " (529, 0.13041013273932528),\n",
       " (778, 0.13041013273932528),\n",
       " (1035, 0.13041013273932528),\n",
       " (1613, 0.13041013273932528),\n",
       " (483, 0.1301200097264711),\n",
       " (1654, 0.1301200097264711),\n",
       " (420, 0.12888481555661674),\n",
       " (238, 0.12777531299998796),\n",
       " (939, 0.12777531299998796),\n",
       " (1737, 0.12777531299998796),\n",
       " (4673, 0.12777531299998796),\n",
       " (228, 0.12741179785940637),\n",
       " (2709, 0.12741179785940637),\n",
       " (3307, 0.12741179785940637),\n",
       " (432, 0.12598815766974242),\n",
       " (28, 0.12555296411486888),\n",
       " (275, 0.12555296411486888),\n",
       " (1272, 0.12555296411486888),\n",
       " (2071, 0.12555296411486888),\n",
       " (2864, 0.12555296411486888),\n",
       " (454, 0.1246111965698067),\n",
       " (549, 0.1246111965698067),\n",
       " (95, 0.12461119656980668),\n",
       " (72, 0.12344267996967351),\n",
       " (579, 0.12344267996967351),\n",
       " (1978, 0.12344267996967351),\n",
       " (123, 0.12327841818038447),\n",
       " (2543, 0.12327841818038447),\n",
       " (1508, 0.12327841818038446),\n",
       " (624, 0.12298800925361816),\n",
       " (653, 0.12298800925361816),\n",
       " (1571, 0.12298800925361816),\n",
       " (3145, 0.12298800925361816),\n",
       " (1275, 0.12198750911856666),\n",
       " (3405, 0.12198750911856665),\n",
       " (50, 0.12143534814378325),\n",
       " (692, 0.12073632210407378),\n",
       " (169, 0.11952286093343936),\n",
       " (808, 0.11952286093343936),\n",
       " (1570, 0.11952286093343936),\n",
       " (2255, 0.11952286093343936),\n",
       " (3628, 0.11952286093343936),\n",
       " (3719, 0.11952286093343936),\n",
       " (166, 0.11952286093343935),\n",
       " (232, 0.11952286093343935),\n",
       " (294, 0.11952286093343935),\n",
       " (859, 0.11952286093343935),\n",
       " (1612, 0.11952286093343935),\n",
       " (5, 0.1183452670827877),\n",
       " (206, 0.1183452670827877),\n",
       " (10, 0.11769797726729994),\n",
       " (513, 0.11769797726729994),\n",
       " (1029, 0.11769797726729994),\n",
       " (3006, 0.11769797726729994),\n",
       " (81, 0.11710800875382396),\n",
       " (141, 0.11633501014942217),\n",
       " (627, 0.11633501014942217),\n",
       " (1369, 0.11633501014942217),\n",
       " (2319, 0.11633501014942217),\n",
       " (3998, 0.11633501014942217),\n",
       " (4016, 0.11633501014942217),\n",
       " (199, 0.11609086505314302),\n",
       " (87, 0.11595420713048966),\n",
       " (126, 0.11595420713048966),\n",
       " (508, 0.11595420713048966),\n",
       " (687, 0.11595420713048966),\n",
       " (2579, 0.11595420713048966),\n",
       " (777, 0.11501092655705902),\n",
       " (14, 0.11428571428571427),\n",
       " (854, 0.11428571428571427),\n",
       " (900, 0.11428571428571427),\n",
       " (1193, 0.11428571428571427),\n",
       " (2009, 0.11428571428571427),\n",
       " (2446, 0.11428571428571427),\n",
       " (3496, 0.11428571428571427),\n",
       " (325, 0.11338934190276817),\n",
       " (1520, 0.11338934190276817),\n",
       " (1717, 0.11338934190276817),\n",
       " (2630, 0.11338934190276817),\n",
       " (4133, 0.11338934190276817),\n",
       " (4201, 0.11338934190276817),\n",
       " (18, 0.1129384878631564),\n",
       " (1017, 0.1129384878631564),\n",
       " (2102, 0.1129384878631564),\n",
       " (2435, 0.1129384878631564),\n",
       " (2756, 0.1129384878631564),\n",
       " (131, 0.1126872339638022),\n",
       " (330, 0.1126872339638022),\n",
       " (1080, 0.1126872339638022),\n",
       " (1292, 0.1126872339638022),\n",
       " (3338, 0.1126872339638022),\n",
       " (3618, 0.1126872339638022),\n",
       " (4095, 0.1126872339638022),\n",
       " (102, 0.11194341570991125),\n",
       " (1493, 0.11194341570991125),\n",
       " (174, 0.11115400287534567),\n",
       " (266, 0.11115400287534567),\n",
       " (312, 0.11115400287534567),\n",
       " (2068, 0.11115400287534567),\n",
       " (2177, 0.11115400287534567),\n",
       " (4077, 0.11115400287534567),\n",
       " (403, 0.1109741904046188),\n",
       " (239, 0.11097419040461878),\n",
       " (3779, 0.11065666703449763),\n",
       " (773, 0.11065666703449761),\n",
       " (1723, 0.11065666703449761),\n",
       " (3053, 0.11065666703449761),\n",
       " (3659, 0.11065666703449761),\n",
       " (3952, 0.11065666703449761),\n",
       " (295, 0.10968169942141635),\n",
       " (535, 0.10968169942141635),\n",
       " (1271, 0.10968169942141635),\n",
       " (3100, 0.10968169942141635),\n",
       " (139, 0.10910894511799617),\n",
       " (182, 0.10826639239215334),\n",
       " (754, 0.10826639239215334),\n",
       " (986, 0.10826639239215334),\n",
       " (4228, 0.10826639239215334),\n",
       " (105, 0.10811249552346706),\n",
       " (476, 0.10811249552346706),\n",
       " (1154, 0.10811249552346706),\n",
       " (2452, 0.10811249552346706),\n",
       " (2517, 0.10811249552346706),\n",
       " (2558, 0.10811249552346706),\n",
       " (2758, 0.10811249552346706),\n",
       " (3837, 0.10811249552346706),\n",
       " (4196, 0.10811249552346706),\n",
       " (4545, 0.10733469768527294),\n",
       " (334, 0.10690449676496976),\n",
       " (643, 0.10690449676496976),\n",
       " (1054, 0.10690449676496976),\n",
       " (1107, 0.10690449676496976),\n",
       " (3462, 0.10690449676496976),\n",
       " (3781, 0.10690449676496976),\n",
       " (85, 0.10631548679075009),\n",
       " (148, 0.1057361065275362),\n",
       " (157, 0.1057361065275362),\n",
       " (233, 0.1057361065275362),\n",
       " (263, 0.1057361065275362),\n",
       " (715, 0.1057361065275362),\n",
       " (935, 0.1057361065275362),\n",
       " (1278, 0.1057361065275362),\n",
       " (2656, 0.1057361065275362),\n",
       " (4331, 0.1057361065275362),\n",
       " (4623, 0.1057361065275362),\n",
       " (129, 0.10559273546969093),\n",
       " (510, 0.10559273546969093),\n",
       " (898, 0.10559273546969093),\n",
       " (3441, 0.10559273546969093),\n",
       " (4043, 0.10559273546969093),\n",
       " (307, 0.10460520656316097),\n",
       " (1084, 0.10432810619146021),\n",
       " (1231, 0.10432810619146021),\n",
       " (2592, 0.1043281061914602),\n",
       " (33, 0.10350983390135313),\n",
       " (35, 0.10350983390135313),\n",
       " (400, 0.10350983390135313),\n",
       " (660, 0.10350983390135313),\n",
       " (781, 0.10350983390135313),\n",
       " (920, 0.10350983390135313),\n",
       " (1304, 0.10350983390135313),\n",
       " (1497, 0.10350983390135313),\n",
       " (1938, 0.10350983390135313),\n",
       " (2657, 0.10350983390135313),\n",
       " (4254, 0.10350983390135313),\n",
       " (270, 0.1031078524452934),\n",
       " (278, 0.1031078524452934),\n",
       " (279, 0.1031078524452934),\n",
       " (371, 0.1031078524452934),\n",
       " (412, 0.1031078524452934),\n",
       " (870, 0.1031078524452934),\n",
       " (1200, 0.1031078524452934),\n",
       " (1435, 0.1031078524452934),\n",
       " (473, 0.1019294382875251),\n",
       " (813, 0.1019294382875251),\n",
       " (933, 0.1019294382875251),\n",
       " (1274, 0.1019294382875251),\n",
       " (1842, 0.1019294382875251),\n",
       " (1999, 0.1019294382875251),\n",
       " (2280, 0.1019294382875251),\n",
       " (292, 0.10141851056742199),\n",
       " (530, 0.10141851056742199),\n",
       " (691, 0.10141851056742199),\n",
       " (791, 0.10141851056742199),\n",
       " (1075, 0.10141851056742199),\n",
       " (1299, 0.10141851056742199),\n",
       " (2647, 0.10141851056742199),\n",
       " (3091, 0.10141851056742199),\n",
       " (3734, 0.10141851056742199),\n",
       " (1087, 0.10101525445522107),\n",
       " (410, 0.10079052613579392),\n",
       " (1819, 0.10079052613579392),\n",
       " (243, 0.09968895725584535),\n",
       " (785, 0.09960238411119947),\n",
       " (142, 0.0994490316197694),\n",
       " (564, 0.0994490316197694),\n",
       " (1404, 0.0994490316197694),\n",
       " (1470, 0.0994490316197694),\n",
       " (1585, 0.0994490316197694),\n",
       " (1682, 0.0994490316197694),\n",
       " (1752, 0.0994490316197694),\n",
       " (2392, 0.0994490316197694),\n",
       " (2648, 0.0994490316197694),\n",
       " (389, 0.09944903161976938),\n",
       " (589, 0.09862273454430757),\n",
       " (618, 0.09862273454430757),\n",
       " (1355, 0.09862273454430757),\n",
       " (43, 0.09759000729485333),\n",
       " (2484, 0.09759000729485333),\n",
       " (2792, 0.09759000729485333),\n",
       " (122, 0.09759000729485331),\n",
       " (362, 0.09759000729485331),\n",
       " (1025, 0.09759000729485331),\n",
       " (2089, 0.09759000729485331),\n",
       " (596, 0.09658905768325902),\n",
       " (1414, 0.09658905768325902),\n",
       " (12, 0.09583148474999097),\n",
       " (21, 0.09583148474999097),\n",
       " (23, 0.09583148474999097),\n",
       " (236, 0.09583148474999097),\n",
       " (511, 0.09583148474999097),\n",
       " (794, 0.09583148474999097),\n",
       " (922, 0.09583148474999097),\n",
       " (2813, 0.09583148474999097),\n",
       " (2836, 0.09583148474999097),\n",
       " (3426, 0.09583148474999097),\n",
       " (160, 0.09569487529386908),\n",
       " (1920, 0.09561828874675149),\n",
       " (479, 0.09508728264112047),\n",
       " (1276, 0.09467621366623016),\n",
       " (1828, 0.09467621366623016),\n",
       " (242, 0.09416472308615166),\n",
       " (306, 0.09416472308615166),\n",
       " (901, 0.09416472308615166),\n",
       " (960, 0.09416472308615166),\n",
       " (978, 0.09416472308615166),\n",
       " (1002, 0.09416472308615166),\n",
       " (1247, 0.09416472308615166),\n",
       " (1519, 0.09416472308615166),\n",
       " (4468, 0.09416472308615166),\n",
       " (799, 0.09390602830316849),\n",
       " (1492, 0.09376144618769908),\n",
       " (2384, 0.09376144618769908),\n",
       " (2852, 0.09376144618769908),\n",
       " (4353, 0.09376144618769908),\n",
       " (4502, 0.09376144618769908),\n",
       " (4516, 0.09376144618769908),\n",
       " (4654, 0.09376144618769908),\n",
       " (2444, 0.09276773134741387),\n",
       " (112, 0.09258200997725513),\n",
       " (164, 0.09258200997725513),\n",
       " (227, 0.09258200997725513),\n",
       " (349, 0.09258200997725513),\n",
       " (369, 0.09258200997725513),\n",
       " (626, 0.09258200997725513),\n",
       " (775, 0.09258200997725513),\n",
       " (1374, 0.09258200997725513),\n",
       " (1696, 0.09258200997725513),\n",
       " (1786, 0.09258200997725513),\n",
       " (2163, 0.09258200997725513),\n",
       " (3447, 0.09258200997725513),\n",
       " (3535, 0.09258200997725513),\n",
       " (3814, 0.09258200997725513),\n",
       " (4626, 0.09258200997725513),\n",
       " (63, 0.09200874124564722),\n",
       " (107, 0.09200874124564722),\n",
       " (170, 0.09200874124564722),\n",
       " (467, 0.09200874124564722),\n",
       " (2001, 0.09200874124564722),\n",
       " (2966, 0.09200874124564722),\n",
       " (32, 0.09116846116771035),\n",
       " (45, 0.09116846116771035),\n",
       " (363, 0.09116846116771035),\n",
       " (491, 0.09116846116771035),\n",
       " (812, 0.09116846116771035),\n",
       " (2494, 0.09116846116771035),\n",
       " (75, 0.09107651110783743),\n",
       " (88, 0.09107651110783743),\n",
       " (98, 0.09107651110783743),\n",
       " (121, 0.09107651110783743),\n",
       " (245, 0.09107651110783743),\n",
       " (315, 0.09107651110783743),\n",
       " (356, 0.09107651110783743),\n",
       " (786, 0.09107651110783743),\n",
       " (894, 0.09107651110783743),\n",
       " (937, 0.09107651110783743),\n",
       " (1267, 0.09107651110783743),\n",
       " (3299, 0.09107651110783743),\n",
       " (222, 0.09035079029052512),\n",
       " (381, 0.09035079029052512),\n",
       " (2270, 0.09035079029052512),\n",
       " (2876, 0.09035079029052512),\n",
       " (3152, 0.09035079029052512),\n",
       " (4163, 0.09035079029052512),\n",
       " (4737, 0.09035079029052512),\n",
       " (2382, 0.09009374626955588),\n",
       " (1, 0.08964214570007951),\n",
       " (96, 0.08964214570007951),\n",
       " (241, 0.08964214570007951),\n",
       " (814, 0.08964214570007951),\n",
       " (2243, 0.08964214570007951),\n",
       " (2247, 0.08964214570007951),\n",
       " (2300, 0.08964214570007951),\n",
       " (2790, 0.08964214570007951),\n",
       " (4257, 0.08964214570007951),\n",
       " (4657, 0.08964214570007951),\n",
       " (654, 0.089554732567929),\n",
       " (1874, 0.089554732567929),\n",
       " (1280, 0.08877935232369503),\n",
       " (1824, 0.08877935232369503),\n",
       " (39, 0.08827348295047496),\n",
       " (86, 0.08827348295047496),\n",
       " (101, 0.08827348295047496),\n",
       " (203, 0.08827348295047496),\n",
       " (457, 0.08827348295047496),\n",
       " (543, 0.08827348295047496),\n",
       " (547, 0.08827348295047496),\n",
       " (899, 0.08827348295047496),\n",
       " (1111, 0.08827348295047496),\n",
       " (1140, 0.08827348295047496),\n",
       " (1205, 0.08827348295047496),\n",
       " (1469, 0.08827348295047496),\n",
       " (3089, 0.08827348295047496),\n",
       " (3233, 0.08827348295047496),\n",
       " (3308, 0.08827348295047496),\n",
       " (103, 0.0880237696271323),\n",
       " (193, 0.0880237696271323),\n",
       " (501, 0.0880237696271323),\n",
       " (3439, 0.0880237696271323),\n",
       " (19, 0.08728715609439694),\n",
       " (1137, 0.08728715609439694),\n",
       " (1401, 0.08728715609439694),\n",
       " (1617, 0.08728715609439694),\n",
       " (2161, 0.08728715609439694),\n",
       " (2246, 0.08728715609439694),\n",
       " (2335, 0.08728715609439694),\n",
       " (3067, 0.08728715609439694),\n",
       " (3216, 0.08728715609439694),\n",
       " (4492, 0.08728715609439694),\n",
       " (4718, 0.08728715609439694),\n",
       " (70, 0.08696565534786725),\n",
       " (634, 0.08696565534786725),\n",
       " (746, 0.08696565534786725),\n",
       " (787, 0.08696565534786725),\n",
       " (1159, 0.08696565534786725),\n",
       " (3026, 0.08696565534786725),\n",
       " (3138, 0.08696565534786725),\n",
       " (3421, 0.08696565534786725),\n",
       " (3908, 0.08696565534786725),\n",
       " (51, 0.086568731069961),\n",
       " (1894, 0.086568731069961),\n",
       " (2199, 0.086568731069961),\n",
       " (572, 0.08656873106996099),\n",
       " (1530, 0.08656873106996099),\n",
       " (2095, 0.08656873106996099),\n",
       " (153, 0.08586775814821836),\n",
       " (1635, 0.08586775814821836),\n",
       " (207, 0.0857142857142857),\n",
       " (257, 0.0857142857142857),\n",
       " (1610, 0.0857142857142857),\n",
       " (2249, 0.0857142857142857),\n",
       " (2640, 0.0857142857142857),\n",
       " (1922, 0.08518354199999197),\n",
       " (3429, 0.08518354199999197),\n",
       " (37, 0.08451542547285165),\n",
       " (472, 0.08451542547285165),\n",
       " (503, 0.08451542547285165),\n",
       " (534, 0.08451542547285165),\n",
       " (680, 0.08451542547285165),\n",
       " (752, 0.08451542547285165),\n",
       " (776, 0.08451542547285165),\n",
       " (985, 0.08451542547285165),\n",
       " (1397, 0.08451542547285165),\n",
       " (1651, 0.08451542547285165),\n",
       " (2708, 0.08451542547285165),\n",
       " (2797, 0.08451542547285165),\n",
       " (2880, 0.08451542547285165),\n",
       " (3387, 0.08451542547285165),\n",
       " (3468, 0.08451542547285165),\n",
       " (3525, 0.08451542547285165),\n",
       " (4059, 0.08451542547285165),\n",
       " (4431, 0.08451542547285165),\n",
       " (4473, 0.08451542547285165),\n",
       " (4641, 0.08451542547285165),\n",
       " (190, 0.08386278693775347),\n",
       " (82, 0.08336550215650926),\n",
       " (138, 0.08336550215650926),\n",
       " (223, 0.08336550215650926),\n",
       " (329, 0.08336550215650926),\n",
       " (471, 0.08336550215650926),\n",
       " (632, 0.08336550215650926),\n",
       " (885, 0.08336550215650926),\n",
       " (2679, 0.08336550215650926),\n",
       " (3353, 0.08336550215650926),\n",
       " (230, 0.08322503785764788),\n",
       " (2759, 0.08322503785764788),\n",
       " (16, 0.08226127456606226),\n",
       " (254, 0.08226127456606226),\n",
       " (1288, 0.08226127456606226),\n",
       " (1556, 0.08226127456606226),\n",
       " (1761, 0.08226127456606226),\n",
       " (2816, 0.08226127456606226),\n",
       " (4053, 0.08226127456606226),\n",
       " (4451, 0.08226127456606226),\n",
       " (62, 0.08199200616907877),\n",
       " (189, 0.08199200616907877),\n",
       " (256, 0.08199200616907877),\n",
       " (850, 0.08199200616907877),\n",
       " (1321, 0.08199200616907877),\n",
       " (1660, 0.08199200616907877),\n",
       " (2322, 0.08199200616907877),\n",
       " (2785, 0.08199200616907877),\n",
       " (3153, 0.08199200616907877),\n",
       " (3251, 0.08199200616907877),\n",
       " (4568, 0.08199200616907877),\n",
       " (11, 0.081199794294115),\n",
       " (71, 0.081199794294115),\n",
       " (365, 0.081199794294115),\n",
       " (1287, 0.081199794294115),\n",
       " (1363, 0.081199794294115),\n",
       " (3204, 0.081199794294115),\n",
       " (3699, 0.081199794294115),\n",
       " (274, 0.08095109602454656),\n",
       " (59, 0.08024108542850393),\n",
       " (125, 0.08021849185198157),\n",
       " (737, 0.08017837257372731),\n",
       " (2159, 0.08017837257372731),\n",
       " (2588, 0.08017837257372731),\n",
       " (4640, 0.08017837257372731),\n",
       " (109, 0.07968190728895957),\n",
       " (200, 0.07968190728895957),\n",
       " (205, 0.07968190728895957),\n",
       " (313, 0.07968190728895957),\n",
       " (800, 0.07968190728895957),\n",
       " (1043, 0.07968190728895957),\n",
       " (1286, 0.07968190728895957),\n",
       " (1517, 0.07968190728895957),\n",
       " (2313, 0.07968190728895957),\n",
       " (2377, 0.07968190728895957),\n",
       " (2406, 0.07968190728895957),\n",
       " (2547, 0.07968190728895957),\n",
       " (2655, 0.07968190728895957),\n",
       " (3428, 0.07968190728895957),\n",
       " (3830, 0.07968190728895957),\n",
       " (4412, 0.07968190728895957),\n",
       " (79, 0.0791945516022682),\n",
       " (271, 0.0791945516022682),\n",
       " (665, 0.0791945516022682),\n",
       " (732, 0.0791945516022682),\n",
       " (908, 0.0791945516022682),\n",
       " (2391, 0.0791945516022682),\n",
       " (2914, 0.0791945516022682),\n",
       " (3020, 0.0791945516022682),\n",
       " (4081, 0.0791945516022682),\n",
       " (55, 0.07859774918918593),\n",
       " (587, 0.07824607964359516),\n",
       " (1323, 0.07824607964359516),\n",
       " (2017, 0.07824607964359516),\n",
       " (2359, 0.07824607964359516),\n",
       " (2697, 0.07824607964359516),\n",
       " (2827, 0.07824607964359516),\n",
       " (3905, 0.07824607964359516),\n",
       " (4121, 0.07824607964359516),\n",
       " (2350, 0.07824607964359515),\n",
       " (179, 0.07755667343294811),\n",
       " (229, 0.07755667343294811),\n",
       " (1003, 0.07755667343294811),\n",
       " (1346, 0.07755667343294811),\n",
       " (1765, 0.07755667343294811),\n",
       " (2132, 0.07755667343294811),\n",
       " (2157, 0.07755667343294811),\n",
       " (2208, 0.07755667343294811),\n",
       " (2783, 0.07755667343294811),\n",
       " (3070, 0.07755667343294811),\n",
       " (3396, 0.07755667343294811),\n",
       " (3980, 0.07755667343294811),\n",
       " (3992, 0.07755667343294811),\n",
       " (76, 0.07733088933397005),\n",
       " (591, 0.07733088933397005),\n",
       " (784, 0.07733088933397005),\n",
       " (1173, 0.07733088933397005),\n",
       " (1619, 0.07733088933397005),\n",
       " (2048, 0.07733088933397005),\n",
       " (2237, 0.07733088933397005),\n",
       " (3186, 0.07733088933397005),\n",
       " (488, 0.07655590023509526),\n",
       " (9, 0.07644707871564382),\n",
       " (212, 0.07644707871564382),\n",
       " (419, 0.07644707871564382),\n",
       " (536, 0.07644707871564382),\n",
       " (977, 0.07644707871564382),\n",
       " (1442, 0.07644707871564382),\n",
       " (1628, 0.07644707871564382),\n",
       " (1879, 0.07644707871564382),\n",
       " (570, 0.07559289460184544),\n",
       " (635, 0.07559289460184544),\n",
       " (728, 0.07559289460184544),\n",
       " (782, 0.07559289460184544),\n",
       " (827, 0.07559289460184544),\n",
       " (1260, 0.07559289460184544),\n",
       " (1290, 0.07559289460184544),\n",
       " (1766, 0.07559289460184544),\n",
       " (1770, 0.07559289460184544),\n",
       " (2529, 0.07559289460184544),\n",
       " (2646, 0.07559289460184544),\n",
       " (2694, 0.07559289460184544),\n",
       " (3820, 0.07559289460184544),\n",
       " (4097, 0.07559289460184544),\n",
       " (4403, 0.07559289460184544),\n",
       " (4443, 0.07559289460184544),\n",
       " (2052, 0.07476671794188403),\n",
       " (97, 0.07476671794188401),\n",
       " (995, 0.07476671794188401),\n",
       " (1016, 0.07476671794188401),\n",
       " (1144, 0.07476671794188401),\n",
       " (1166, 0.07476671794188401),\n",
       " (1338, 0.07476671794188401),\n",
       " (1697, 0.07476671794188401),\n",
       " (3388, 0.07476671794188401),\n",
       " (183, 0.07466533929465573),\n",
       " (674, 0.07396705090823068),\n",
       " (704, 0.07396705090823068),\n",
       " (1992, 0.07396705090823068),\n",
       " (2014, 0.07396705090823068),\n",
       " (100, 0.07377111135633174),\n",
       " (336, 0.07377111135633174),\n",
       " (1169, 0.07377111135633174),\n",
       " (1733, 0.07377111135633174),\n",
       " (2110, 0.07377111135633174),\n",
       " (3239, 0.07377111135633174),\n",
       " (3667, 0.07377111135633174),\n",
       " (3974, 0.07377111135633174),\n",
       " (4004, 0.07377111135633174),\n",
       " (4290, 0.07377111135633174),\n",
       " (1986, 0.07333587976225689),\n",
       " (30, 0.07319250547113999),\n",
       " (215, 0.07319250547113999),\n",
       " (262, 0.07319250547113999),\n",
       " (281, 0.07319250547113999),\n",
       " (2316, 0.07319250547113999),\n",
       " (2368, 0.07319250547113999),\n",
       " (2886, 0.07319250547113999),\n",
       " (3223, 0.07319250547113999),\n",
       " (4343, 0.07319250547113999),\n",
       " (600, 0.07244179326244427),\n",
       " (1189, 0.07244179326244427),\n",
       " (1441, 0.07244179326244427),\n",
       " (1451, 0.07244179326244427),\n",
       " (2099, 0.07244179326244427),\n",
       " (2131, 0.07244179326244427),\n",
       " (267, 0.07207499701564471),\n",
       " (304, 0.07207499701564471),\n",
       " (319, 0.07207499701564471),\n",
       " (498, 0.07207499701564471),\n",
       " (889, 0.07207499701564471),\n",
       " (1164, 0.07207499701564471),\n",
       " (1406, 0.07207499701564471),\n",
       " (1462, 0.07207499701564471),\n",
       " (1601, 0.07207499701564471),\n",
       " (3131, 0.07207499701564471),\n",
       " (3513, 0.07207499701564471),\n",
       " (4638, 0.07207499701564471),\n",
       " (790, 0.07171371656006362),\n",
       " (1091, 0.07171371656006362),\n",
       " (2260, 0.07171371656006362),\n",
       " (2287, 0.07171371656006362),\n",
       " (3554, 0.07171371656006362),\n",
       " (3738, 0.07171371656006362),\n",
       " (4179, 0.07171371656006362),\n",
       " (3210, 0.07168504827326538),\n",
       " (29, 0.07100716024967263),\n",
       " (425, 0.07100716024967263),\n",
       " (612, 0.07100716024967263),\n",
       " (1959, 0.07100716024967263),\n",
       " (2788, 0.07100716024967263),\n",
       " (4538, 0.07100716024967263),\n",
       " (415, 0.0708769911938334),\n",
       " (22, 0.07049073768502413),\n",
       " (308, 0.07049073768502413),\n",
       " (533, 0.07049073768502413),\n",
       " (537, 0.07049073768502413),\n",
       " (604, 0.07049073768502413),\n",
       " (621, 0.07049073768502413),\n",
       " (668, 0.07049073768502413),\n",
       " (1083, 0.07049073768502413),\n",
       " (1090, 0.07049073768502413),\n",
       " (1240, 0.07049073768502413),\n",
       " (1345, 0.07049073768502413),\n",
       " (1880, 0.07049073768502413),\n",
       " (2049, 0.07049073768502413),\n",
       " (2086, 0.07049073768502413),\n",
       " (2974, 0.07049073768502413),\n",
       " (3295, 0.07049073768502413),\n",
       " (3372, 0.07049073768502413),\n",
       " (3619, 0.07049073768502413),\n",
       " (3653, 0.07049073768502413),\n",
       " (3674, 0.07049073768502413),\n",
       " (3929, 0.07049073768502413),\n",
       " (4214, 0.07049073768502413),\n",
       " (4320, 0.07049073768502413),\n",
       " (4357, 0.07049073768502413),\n",
       " (4472, 0.07049073768502413),\n",
       " (92, 0.0703210846407743),\n",
       " (456, 0.0703210846407743),\n",
       " (469, 0.0703210846407743),\n",
       " (3558, 0.0703210846407743),\n",
       " (3605, 0.0703210846407743),\n",
       " (143, 0.06965451903188581),\n",
       " (541, 0.06965451903188581),\n",
       " (1028, 0.06965451903188581),\n",
       " (1367, 0.06965451903188581),\n",
       " (2252, 0.06965451903188581),\n",
       " (2594, 0.06965451903188581),\n",
       " (2998, 0.06965451903188581),\n",
       " (237, 0.06900655593423542),\n",
       " (695, 0.06900655593423542),\n",
       " (951, 0.06900655593423542),\n",
       " (1377, 0.06900655593423542),\n",
       " (1430, 0.06900655593423542),\n",
       " (1509, 0.06900655593423542),\n",
       " (1569, 0.06900655593423542),\n",
       " (1856, 0.06900655593423542),\n",
       " (1940, 0.06900655593423542),\n",
       " (2013, 0.06900655593423542),\n",
       " (2264, 0.06900655593423542),\n",
       " (2266, 0.06900655593423542),\n",
       " (2575, 0.06900655593423542),\n",
       " (2618, 0.06900655593423542),\n",
       " (2641, 0.06900655593423542),\n",
       " (3107, 0.06900655593423542),\n",
       " (3570, 0.06900655593423542),\n",
       " (4088, 0.06900655593423542),\n",
       " (4591, 0.06900655593423542),\n",
       " (1005, 0.06900655593423541),\n",
       " (1303, 0.06900655593423541),\n",
       " (1688, 0.06900655593423541),\n",
       " (2571, 0.06900655593423541),\n",
       " (475, 0.06837634587578276),\n",
       " (48, 0.06776309271789384),\n",
       " (124, 0.06776309271789384),\n",
       " (234, 0.06776309271789384),\n",
       " (253, 0.06776309271789384),\n",
       " (836, 0.06776309271789384),\n",
       " (1975, 0.06776309271789384),\n",
       " (3633, 0.06776309271789384),\n",
       " (159, 0.06761234037828133),\n",
       " (167, 0.06761234037828133),\n",
       " (348, 0.06761234037828133),\n",
       " (404, 0.06761234037828133),\n",
       " (744, 0.06761234037828133),\n",
       " (945, 0.06761234037828133),\n",
       " (1301, 0.06761234037828133),\n",
       " (1566, 0.06761234037828133),\n",
       " (1603, 0.06761234037828133),\n",
       " (1627, 0.06761234037828133),\n",
       " (1667, 0.06761234037828133),\n",
       " (1969, 0.06761234037828133),\n",
       " (2053, 0.06761234037828133),\n",
       " (2108, 0.06761234037828133),\n",
       " (2440, 0.06761234037828133),\n",
       " (2567, 0.06761234037828133),\n",
       " (2660, 0.06761234037828133),\n",
       " (2737, 0.06761234037828133),\n",
       " (2946, 0.06761234037828133),\n",
       " (2953, 0.06761234037828133),\n",
       " (2955, 0.06761234037828133),\n",
       " (3163, 0.06761234037828133),\n",
       " (3354, 0.06761234037828133),\n",
       " (4036, 0.06761234037828133),\n",
       " (4355, 0.06761234037828133),\n",
       " (4727, 0.06761234037828133),\n",
       " (156, 0.06716604942594674),\n",
       " (1955, 0.06716604942594674),\n",
       " (219, 0.06629935441317959),\n",
       " (276, 0.06629935441317959),\n",
       " (290, 0.06629935441317959),\n",
       " (309, 0.06629935441317959),\n",
       " (546, 0.06629935441317959),\n",
       " (711, 0.06629935441317959),\n",
       " (1074, 0.06629935441317959),\n",
       " (1095, 0.06629935441317959),\n",
       " (1135, 0.06629935441317959),\n",
       " (1257, 0.06629935441317959),\n",
       " (1361, 0.06629935441317959),\n",
       " (1582, 0.06629935441317959),\n",
       " (1925, 0.06629935441317959),\n",
       " (2116, 0.06629935441317959),\n",
       " (2154, 0.06629935441317959),\n",
       " (2502, 0.06629935441317959),\n",
       " (2988, 0.06629935441317959),\n",
       " (3609, 0.06629935441317959),\n",
       " (3832, 0.06629935441317959),\n",
       " (4194, 0.06629935441317959),\n",
       " (4271, 0.06629935441317959),\n",
       " (4312, 0.06629935441317959),\n",
       " (4566, 0.06629935441317959),\n",
       " (4704, 0.06629935441317959),\n",
       " (246, 0.06601782722034923),\n",
       " (277, 0.06601782722034923),\n",
       " (1344, 0.06601782722034923),\n",
       " (1483, 0.06601782722034923),\n",
       " (768, 0.0654653670707977),\n",
       " (1596, 0.0654653670707977),\n",
       " (90, 0.06506000486323554),\n",
       " (195, 0.06506000486323554),\n",
       " (216, 0.06506000486323554),\n",
       " (358, 0.06506000486323554),\n",
       " (664, 0.06506000486323554),\n",
       " (701, 0.06506000486323554),\n",
       " (996, 0.06506000486323554),\n",
       " (1071, 0.06506000486323554),\n",
       " (1416, 0.06506000486323554),\n",
       " (1476, 0.06506000486323554),\n",
       " (2056, 0.06506000486323554),\n",
       " (3858, 0.06506000486323554),\n",
       " (4132, 0.06506000486323554),\n",
       " (4560, 0.06506000486323554),\n",
       " (213, 0.06492654830247076),\n",
       " (607, 0.06492654830247076),\n",
       " (1674, 0.06492654830247076),\n",
       " (3615, 0.06492654830247076),\n",
       " (1655, 0.06440081861116377),\n",
       " (1893, 0.06440081861116377),\n",
       " (3860, 0.06440081861116377),\n",
       " (3903, 0.06440081861116377),\n",
       " (2828, 0.06417479348158525),\n",
       " (49, 0.06388765649999398),\n",
       " (152, 0.06388765649999398),\n",
       " (259, 0.06388765649999398),\n",
       " (755, 0.06388765649999398),\n",
       " (1077, 0.06388765649999398),\n",
       " (1145, 0.06388765649999398),\n",
       " (1359, 0.06388765649999398),\n",
       " (1436, 0.06388765649999398),\n",
       " (1465, 0.06388765649999398),\n",
       " (2231, 0.06388765649999398),\n",
       " (2471, 0.06388765649999398),\n",
       " (3302, 0.06388765649999398),\n",
       " (4146, 0.06388765649999398),\n",
       " (4781, 0.06388765649999398),\n",
       " (224, 0.06338656910463875),\n",
       " (2644, 0.06338656910463875),\n",
       " (38, 0.0628970902033151),\n",
       " (4118, 0.0628970902033151),\n",
       " (147, 0.06277648205743444),\n",
       " (244, 0.06277648205743444),\n",
       " (402, 0.06277648205743444),\n",
       " (492, 0.06277648205743444),\n",
       " (678, 0.06277648205743444),\n",
       " (745, 0.06277648205743444),\n",
       " (823, 0.06277648205743444),\n",
       " (840, 0.06277648205743444),\n",
       " (1068, 0.06277648205743444),\n",
       " (1139, 0.06277648205743444),\n",
       " (1239, 0.06277648205743444),\n",
       " (1439, 0.06277648205743444),\n",
       " (1449, 0.06277648205743444),\n",
       " (1552, 0.06277648205743444),\n",
       " (1645, 0.06277648205743444),\n",
       " (1989, 0.06277648205743444),\n",
       " (2018, 0.06277648205743444),\n",
       " (2155, 0.06277648205743444),\n",
       " (2548, 0.06277648205743444),\n",
       " (2585, 0.06277648205743444),\n",
       " (2791, 0.06277648205743444),\n",
       " (3133, 0.06277648205743444),\n",
       " (3371, 0.06277648205743444),\n",
       " (3446, 0.06277648205743444),\n",
       " (3888, 0.06277648205743444),\n",
       " (2545, 0.06241877839323591),\n",
       " (4305, 0.06241877839323591),\n",
       " (2993, 0.06224220440894771),\n",
       " (426, 0.06195121541733006),\n",
       " (8, 0.061721339984836754),\n",
       " (341, 0.061721339984836754),\n",
       " (843, 0.061721339984836754),\n",
       " (844, 0.061721339984836754),\n",
       " (1132, 0.061721339984836754),\n",
       " (1259, 0.061721339984836754),\n",
       " (1332, 0.061721339984836754),\n",
       " (1360, 0.061721339984836754),\n",
       " (1580, 0.061721339984836754),\n",
       " (1709, 0.061721339984836754),\n",
       " (1792, 0.061721339984836754),\n",
       " (1838, 0.061721339984836754),\n",
       " (2685, 0.061721339984836754),\n",
       " (2820, 0.061721339984836754),\n",
       " (3057, 0.061721339984836754),\n",
       " (3179, 0.061721339984836754),\n",
       " (3320, 0.061721339984836754),\n",
       " (3363, 0.061721339984836754),\n",
       " (3924, 0.061721339984836754),\n",
       " (3933, 0.061721339984836754),\n",
       " (4270, 0.061721339984836754),\n",
       " (89, 0.06121333677828399),\n",
       " (391, 0.061046769566735964),\n",
       " (2186, 0.061046769566735964),\n",
       " (847, 0.060963994247895004),\n",
       " (3366, 0.060963994247895004),\n",
       " (117, 0.060717674071891624),\n",
       " (512, 0.060717674071891624),\n",
       " (544, 0.060717674071891624),\n",
       " (1684, 0.060717674071891624),\n",
       " (1699, 0.060717674071891624),\n",
       " (1742, 0.060717674071891624),\n",
       " (1764, 0.060717674071891624),\n",
       " (2632, 0.060717674071891624),\n",
       " (2861, 0.060717674071891624),\n",
       " (3675, 0.060717674071891624),\n",
       " (3744, 0.060717674071891624),\n",
       " (4519, 0.060717674071891624),\n",
       " (610, 0.06060915267313264),\n",
       " (428, 0.05976143046671968),\n",
       " (848, 0.05976143046671968),\n",
       " (2, 0.059761430466719674),\n",
       " (104, 0.059761430466719674),\n",
       " (198, 0.059761430466719674),\n",
       " (235, 0.059761430466719674),\n",
       " (302, 0.059761430466719674),\n",
       " (326, 0.059761430466719674),\n",
       " (366, 0.059761430466719674),\n",
       " (514, 0.059761430466719674),\n",
       " (614, 0.059761430466719674),\n",
       " (1194, 0.059761430466719674),\n",
       " (1235, 0.059761430466719674),\n",
       " (1310, 0.059761430466719674),\n",
       " (2228, 0.059761430466719674),\n",
       " (2415, 0.059761430466719674),\n",
       " (4339, 0.059761430466719674),\n",
       " (4636, 0.059761430466719674),\n",
       " (4793, 0.059761430466719674),\n",
       " (443, 0.05884898863364997),\n",
       " (449, 0.05884898863364997),\n",
       " (672, 0.05884898863364997),\n",
       " (741, 0.05884898863364997),\n",
       " (792, 0.05884898863364997),\n",
       " (805, 0.05884898863364997),\n",
       " (1096, 0.05884898863364997),\n",
       " (1291, 0.05884898863364997),\n",
       " (1382, 0.05884898863364997),\n",
       " (1581, 0.05884898863364997),\n",
       " (1823, 0.05884898863364997),\n",
       " (2087, 0.05884898863364997),\n",
       " (2171, 0.05884898863364997),\n",
       " (2207, 0.05884898863364997),\n",
       " (2474, 0.05884898863364997),\n",
       " (2498, 0.05884898863364997),\n",
       " (3003, 0.05884898863364997),\n",
       " (3009, 0.05884898863364997),\n",
       " (3164, 0.05884898863364997),\n",
       " (3347, 0.05884898863364997),\n",
       " (3524, 0.05884898863364997),\n",
       " (4316, 0.05884898863364997),\n",
       " (4799, 0.05884898863364997),\n",
       " (486, 0.05855400437691198),\n",
       " (20, 0.058167505074711086),\n",
       " ...]"
      ]
     },
     "execution_count": 51,
     "metadata": {},
     "output_type": "execute_result"
    }
   ],
   "source": [
    "#list becomes list of tuples gives distances with comparison to index positions to another dimensions. \n",
    "#as we only do sorting index function is lost and moves to other position\n",
    "#thats why we do enumeration to make a list of tuples, we form it in a list \n",
    "#key=lambda x:x[1] with this code we explain the sorting should be based on 2nd clumn no the first column which is list number\n",
    "#if we sort without using lambda function it will gradually gives last number on top and starts with descending order.\n",
    "\n",
    "sorted(list(enumerate(similarity[0])),reverse=True,key=lambda x:x[1])"
   ]
  },
  {
   "cell_type": "code",
   "execution_count": 52,
   "id": "a0580eca",
   "metadata": {
    "execution": {
     "iopub.execute_input": "2024-11-28T11:58:49.436034Z",
     "iopub.status.busy": "2024-11-28T11:58:49.435639Z",
     "iopub.status.idle": "2024-11-28T11:58:49.447165Z",
     "shell.execute_reply": "2024-11-28T11:58:49.445884Z"
    },
    "papermill": {
     "duration": 0.031117,
     "end_time": "2024-11-28T11:58:49.449414",
     "exception": false,
     "start_time": "2024-11-28T11:58:49.418297",
     "status": "completed"
    },
    "tags": []
   },
   "outputs": [
    {
     "data": {
      "text/plain": [
       "[(539, 0.26089696604360174),\n",
       " (1192, 0.2581988897471611),\n",
       " (507, 0.25302403842552984),\n",
       " (260, 0.25110592822973776),\n",
       " (1214, 0.24944382578492943)]"
      ]
     },
     "execution_count": 52,
     "metadata": {},
     "output_type": "execute_result"
    }
   ],
   "source": [
    "sorted(list(enumerate(similarity[0])),reverse=True,key=lambda x:x[1])[1:6]"
   ]
  },
  {
   "cell_type": "code",
   "execution_count": 53,
   "id": "18a5a287",
   "metadata": {
    "execution": {
     "iopub.execute_input": "2024-11-28T11:58:49.481263Z",
     "iopub.status.busy": "2024-11-28T11:58:49.480856Z",
     "iopub.status.idle": "2024-11-28T11:58:49.487800Z",
     "shell.execute_reply": "2024-11-28T11:58:49.486691Z"
    },
    "papermill": {
     "duration": 0.025572,
     "end_time": "2024-11-28T11:58:49.490044",
     "exception": false,
     "start_time": "2024-11-28T11:58:49.464472",
     "status": "completed"
    },
    "tags": []
   },
   "outputs": [],
   "source": [
    "def recommend(movie):#Defines a function named recommend that takes a single parameter movie.\n",
    "    #Finds the index of the movie in new_df where the title matches the input movie.\n",
    "    movie_index = new_df[new_df['title'] == movie].index[0]\n",
    "    #The .index[0] ensures only the first match is taken if there are multiple entries with the same title.\n",
    "\n",
    "    #Retrieves the similarity scores for the given movie based on its index.\n",
    "    #similarity is assumed to be a precomputed similarity matrix (e.g., cosine similarity between movie feature vectors).\n",
    "    distances = similarity[movie_index]\n",
    "    \n",
    "    #Enumerates over the similarity scores (distances) to pair each score with its corresponding index.\n",
    "    #Sorts the list of tuples ((index, similarity_score)) in descending order of similarity scores (key=lambda x: x[1]).\n",
    "    movies_list = sorted(list(enumerate(distances)),reverse=True,key=lambda x:x[1])[1:6]\n",
    "\n",
    "    for i in movies_list: #Iterates through the top 5 recommended movies and prints their titles.\n",
    "         recommended_movies = [new_df.loc[i[0]].title for i in movies_list]\n",
    "    return recommended_movies\n",
    "\n",
    "#i[0] is the index of the recommended movie (from the similarity matrix).\n",
    "#new_df.loc[i[0]] retrieves the row in new_df corresponding to that index.\n",
    "\n"
   ]
  },
  {
   "cell_type": "code",
   "execution_count": 54,
   "id": "139b68a8",
   "metadata": {
    "execution": {
     "iopub.execute_input": "2024-11-28T11:58:49.521843Z",
     "iopub.status.busy": "2024-11-28T11:58:49.521446Z",
     "iopub.status.idle": "2024-11-28T11:58:49.535187Z",
     "shell.execute_reply": "2024-11-28T11:58:49.534138Z"
    },
    "papermill": {
     "duration": 0.03231,
     "end_time": "2024-11-28T11:58:49.537456",
     "exception": false,
     "start_time": "2024-11-28T11:58:49.505146",
     "status": "completed"
    },
    "tags": []
   },
   "outputs": [
    {
     "data": {
      "text/plain": [
       "['The Dark Knight',\n",
       " 'The Dark Knight Rises',\n",
       " 'Batman',\n",
       " 'Batman & Robin',\n",
       " 'Batman']"
      ]
     },
     "execution_count": 54,
     "metadata": {},
     "output_type": "execute_result"
    }
   ],
   "source": [
    "recommend('Batman Begins')"
   ]
  },
  {
   "cell_type": "code",
   "execution_count": null,
   "id": "9a1abdbb",
   "metadata": {
    "execution": {
     "iopub.execute_input": "2024-11-28T11:49:17.702153Z",
     "iopub.status.busy": "2024-11-28T11:49:17.701723Z",
     "iopub.status.idle": "2024-11-28T11:49:17.709429Z",
     "shell.execute_reply": "2024-11-28T11:49:17.708265Z",
     "shell.execute_reply.started": "2024-11-28T11:49:17.702117Z"
    },
    "papermill": {
     "duration": 0.016287,
     "end_time": "2024-11-28T11:58:49.569358",
     "exception": false,
     "start_time": "2024-11-28T11:58:49.553071",
     "status": "completed"
    },
    "tags": []
   },
   "outputs": [],
   "source": []
  },
  {
   "cell_type": "code",
   "execution_count": null,
   "id": "eeefcaac",
   "metadata": {
    "papermill": {
     "duration": 0.014694,
     "end_time": "2024-11-28T11:58:49.598941",
     "exception": false,
     "start_time": "2024-11-28T11:58:49.584247",
     "status": "completed"
    },
    "tags": []
   },
   "outputs": [],
   "source": []
  }
 ],
 "metadata": {
  "kaggle": {
   "accelerator": "none",
   "dataSources": [
    {
     "datasetId": 138,
     "sourceId": 4508,
     "sourceType": "datasetVersion"
    }
   ],
   "dockerImageVersionId": 30786,
   "isGpuEnabled": false,
   "isInternetEnabled": false,
   "language": "python",
   "sourceType": "notebook"
  },
  "kernelspec": {
   "display_name": "Python 3",
   "language": "python",
   "name": "python3"
  },
  "language_info": {
   "codemirror_mode": {
    "name": "ipython",
    "version": 3
   },
   "file_extension": ".py",
   "mimetype": "text/x-python",
   "name": "python",
   "nbconvert_exporter": "python",
   "pygments_lexer": "ipython3",
   "version": "3.10.14"
  },
  "papermill": {
   "default_parameters": {},
   "duration": 28.694506,
   "end_time": "2024-11-28T11:58:50.336040",
   "environment_variables": {},
   "exception": null,
   "input_path": "__notebook__.ipynb",
   "output_path": "__notebook__.ipynb",
   "parameters": {},
   "start_time": "2024-11-28T11:58:21.641534",
   "version": "2.6.0"
  }
 },
 "nbformat": 4,
 "nbformat_minor": 5
}
